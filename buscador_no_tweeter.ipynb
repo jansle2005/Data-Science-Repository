{
  "cells": [
    {
      "cell_type": "markdown",
      "metadata": {
        "id": "view-in-github",
        "colab_type": "text"
      },
      "source": [
        "<a href=\"https://colab.research.google.com/github/jansle2005/Data-Science-Repository/blob/master/buscador_no_tweeter.ipynb\" target=\"_parent\"><img src=\"https://colab.research.google.com/assets/colab-badge.svg\" alt=\"Open In Colab\"/></a>"
      ]
    },
    {
      "cell_type": "markdown",
      "source": [
        "# **Buscador de Tweeter - Workshop**\n",
        "# **Facilitador: Jansle Sousa **"
      ],
      "metadata": {
        "id": "dy2f3tbHYxQ7"
      }
    },
    {
      "cell_type": "markdown",
      "source": [
        "## Programa em PORTUGOL"
      ],
      "metadata": {
        "id": "RJ80BJ14cxTR"
      }
    },
    {
      "cell_type": "markdown",
      "source": [
        "1- Instale bibiotecas necessárias.   \n",
        "2- Fazer as importações necessárias de bibliotecas já instaladas.   \n",
        "3- Definir os parâmetros da busca: palavra chave, data de início e data fim.   \n",
        "4- Procurar link de postagen no Tweeter que contenham a palavra chave no intervalo de datas definido e monta uma tabela (dataframe) de links (df_links).   \n",
        "5- Procurar textos de postagens no Tweeter que contenham a palavra chave no intervalo de datas definido e monta uma tabela (dataframe) desse conteúdo (df_conteudos).   \n",
        "6- Juntar as duas tabelas (dataframes) acima monta dataframe final (resultado_final).   \n",
        "7- Mostrar na tela o resultado final.   "
      ],
      "metadata": {
        "id": "fnsGLypDeg5J"
      }
    },
    {
      "cell_type": "code",
      "source": [
        ""
      ],
      "metadata": {
        "id": "TXYJeg6QeTaU"
      },
      "execution_count": 138,
      "outputs": []
    },
    {
      "cell_type": "markdown",
      "source": [
        "## Seção -  1: Instalar a(s) nova(s) bibioteca(s) necessária(s): nesse caso, snscrape que servirá à nossa prospecção."
      ],
      "metadata": {
        "id": "7-_qfaXpczRg"
      }
    },
    {
      "cell_type": "code",
      "source": [
        "!pip install -q snscrape"
      ],
      "metadata": {
        "id": "Mz4nvooqc4ob"
      },
      "execution_count": 134,
      "outputs": []
    },
    {
      "cell_type": "markdown",
      "source": [
        "## Seção -  2: Fazer as importações necessárias de bibliotecas já instaladas para a memória."
      ],
      "metadata": {
        "id": "dUX0IdyadHCr"
      }
    },
    {
      "cell_type": "code",
      "source": [
        "import os\n",
        "import pandas as pd\n",
        "from datetime import date"
      ],
      "metadata": {
        "id": "Kpq459-2ZhYj"
      },
      "execution_count": 135,
      "outputs": []
    },
    {
      "cell_type": "markdown",
      "source": [
        "## Seção - 3:  Definir os parâmetros da busca: palavra chave, data de início e data fim."
      ],
      "metadata": {
        "id": "tFJsS47bdWVR"
      }
    },
    {
      "cell_type": "code",
      "source": [
        "\n",
        "termo_buscado='Jansle'\n",
        "from_date='2021-07-01'\n",
        "end_date='2022-04-04'"
      ],
      "metadata": {
        "id": "CcTrcfcUZv87"
      },
      "execution_count": 136,
      "outputs": []
    },
    {
      "cell_type": "markdown",
      "source": [
        "## Seção - 4: Procurar links de postagens no Tweeter que contenham a palavra chave no intervalo de datas definido e monta uma tabela chamada de df_link (dataframe),contendo os links dos Tweets encontrados e a palavra buscada (termo_buscado)."
      ],
      "metadata": {
        "id": "7rM0NN7idSd0"
      }
    },
    {
      "cell_type": "code",
      "source": [
        "# \n",
        "os.system(f\"snscrape --since {from_date} twitter-search '{termo_buscado} until:{end_date}' > result-tweets.txt\")\n",
        "if os.stat(\"result-tweets.txt\").st_size == 0:\n",
        "  counter = 0\n",
        "else:\n",
        "  df_links = pd.read_csv('result-tweets.txt', names=['link'])\n",
        "  counter=df_links.size\n",
        "\n",
        "print('Total de tweets : ' + str(counter))\n",
        "\n",
        "#Tabela (dataframe) dos links de postagems contendo a palavra buscada entre as datas escolhidas\n",
        "display(df_links)"
      ],
      "metadata": {
        "id": "S0b7bRhRnHkL"
      },
      "execution_count": null,
      "outputs": []
    },
    {
      "cell_type": "markdown",
      "source": [
        "## Nova seção - 5:  Procurar textos de postagens no Tweeter que contenham a palavra chave no intervalo de datas definido e  monta uma tabela (dataframe) desse conteúdo (df_conteudos)."
      ],
      "metadata": {
        "id": "lLAEFrkLcw16"
      }
    },
    {
      "cell_type": "code",
      "source": [
        "  \n",
        "\n",
        "# Limita o dataframe a no máximo \"max_results' linhas\n",
        "max_results=500\n",
        "\n",
        "# Faz a extração do texto dos Tweets\n",
        "extracted_tweets = \"snscrape --format '{content!r}'\"+ f\" --max-results {max_results} --since {from_date} twitter-search '{termo_buscado} until:{end_date}' > extracted-tweets.txt\"\n",
        "os.system(extracted_tweets)\n",
        "if os.stat(\"extracted-tweets.txt\").st_size == 0:\n",
        "  print('No Tweets found')\n",
        "else:\n",
        "  df_conteudos = pd.read_csv('extracted-tweets.txt', names=['content'])\n",
        "  counter=df_conteudos.size\n",
        "\n",
        "print('Total de tweets : ' + str(counter))\n",
        "  for row in df_conteudos['content'].iteritems():\n",
        "    print(row)\n"
      ],
      "metadata": {
        "id": "s1WoY5yPnHwi"
      },
      "execution_count": null,
      "outputs": []
    },
    {
      "cell_type": "markdown",
      "source": [
        "## Nova seção -  6: Juntar as duas tabelas (dataframes) acima monta dataframe final (resultado_final)."
      ],
      "metadata": {
        "id": "kZZur9_Qfe2E"
      }
    },
    {
      "cell_type": "code",
      "source": [
        "df_conteudos['linkfinal']=df['link']\n",
        "dataframe_final=df_conteudos"
      ],
      "metadata": {
        "id": "et7KIsja0xH8"
      },
      "execution_count": null,
      "outputs": []
    },
    {
      "cell_type": "markdown",
      "source": [
        "## Seção  7: Imprimir resultado final."
      ],
      "metadata": {
        "id": "cepIRdlqfxLZ"
      }
    },
    {
      "cell_type": "code",
      "source": [
        "\n",
        "display(dataframe_final)"
      ],
      "metadata": {
        "id": "WR4kXDB-1zJk"
      },
      "execution_count": null,
      "outputs": []
    }
  ],
  "metadata": {
    "colab": {
      "collapsed_sections": [],
      "name": "Snippets: Sheets",
      "toc_visible": true,
      "provenance": [],
      "include_colab_link": true
    },
    "kernelspec": {
      "display_name": "Python 3",
      "name": "python3"
    }
  },
  "nbformat": 4,
  "nbformat_minor": 0
}