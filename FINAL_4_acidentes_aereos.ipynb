{
  "cells": [
    {
      "cell_type": "markdown",
      "metadata": {
        "id": "view-in-github",
        "colab_type": "text"
      },
      "source": [
        "<a href=\"https://colab.research.google.com/github/jansle2005/Data-Science-Repository/blob/master/FINAL_4_acidentes_aereos.ipynb\" target=\"_parent\"><img src=\"https://colab.research.google.com/assets/colab-badge.svg\" alt=\"Open In Colab\"/></a>"
      ]
    },
    {
      "cell_type": "code",
      "execution_count": 7,
      "metadata": {
        "id": "S6RN9_B1iJ3y"
      },
      "outputs": [],
      "source": [
        "%matplotlib inline\n",
        "import pandas as pd #Para criação de DataFrames\n",
        "import matplotlib.pyplot as plt #Para plotagem\n",
        "import random"
      ]
    },
    {
      "cell_type": "code",
      "execution_count": 8,
      "metadata": {
        "id": "ksWjyT10iJ30"
      },
      "outputs": [],
      "source": [
        "ocorrencia = pd.read_csv('ocorrencia.csv')\n",
        "aeronave = pd.read_csv('aeronave.csv')"
      ]
    },
    {
      "cell_type": "code",
      "execution_count": 9,
      "metadata": {
        "scrolled": false,
        "colab": {
          "base_uri": "https://localhost:8080/",
          "height": 294
        },
        "id": "S5T26hceiJ33",
        "outputId": "c1a13d13-1504-4906-aad9-16c61a9ca3ac"
      },
      "outputs": [
        {
          "output_type": "execute_result",
          "data": {
            "text/plain": [
              "   codigo_ocorrencia    classificacao                       tipo  localidade  \\\n",
              "0              47965         ACIDENTE      FALHA DO MOTOR EM VOO   ARIQUEMES   \n",
              "1              50313  INCIDENTE GRAVE             POUSO SEM TREM      CACOAL   \n",
              "2              34078         ACIDENTE  PERDA DE CONTROLE NO SOLO  CEREJEIRAS   \n",
              "\n",
              "   uf    pais aerodromo dia_ocorrencia   horario sera_investigada  \\\n",
              "0  RO  BRASIL      SJOG     2013-05-05  11:00:00              ***   \n",
              "1  RO  BRASIL      SSKW     2013-11-25  12:32:00              SIM   \n",
              "2  RO  BRASIL      ****     2008-08-07  15:10:00              SIM   \n",
              "\n",
              "  comando_investigador status_investigacao     numero_relatorio  \\\n",
              "0             SERIPA-7                 NaN                  NaN   \n",
              "1             SERIPA-7          FINALIZADA   IG-209/CENIPA/2013   \n",
              "2             SERIPA-7          FINALIZADA  A - 517/CENIPA/2016   \n",
              "\n",
              "   relatorio_publicado dia_publicacao  quantidade_recomendacoes  \\\n",
              "0                  NaN            NaN                         0   \n",
              "1                  1.0     2014-04-07                         0   \n",
              "2                  1.0     2016-07-07                         0   \n",
              "\n",
              "   aeronaves_envolvidas  saida_pista dia_extracao  \n",
              "0                     1          NaN   2016-07-30  \n",
              "1                     1          NaN   2016-07-30  \n",
              "2                     1          1.0   2016-07-30  "
            ],
            "text/html": [
              "\n",
              "  <div id=\"df-a0ccbbd2-e20c-452f-af07-4d3318eb8c7f\">\n",
              "    <div class=\"colab-df-container\">\n",
              "      <div>\n",
              "<style scoped>\n",
              "    .dataframe tbody tr th:only-of-type {\n",
              "        vertical-align: middle;\n",
              "    }\n",
              "\n",
              "    .dataframe tbody tr th {\n",
              "        vertical-align: top;\n",
              "    }\n",
              "\n",
              "    .dataframe thead th {\n",
              "        text-align: right;\n",
              "    }\n",
              "</style>\n",
              "<table border=\"1\" class=\"dataframe\">\n",
              "  <thead>\n",
              "    <tr style=\"text-align: right;\">\n",
              "      <th></th>\n",
              "      <th>codigo_ocorrencia</th>\n",
              "      <th>classificacao</th>\n",
              "      <th>tipo</th>\n",
              "      <th>localidade</th>\n",
              "      <th>uf</th>\n",
              "      <th>pais</th>\n",
              "      <th>aerodromo</th>\n",
              "      <th>dia_ocorrencia</th>\n",
              "      <th>horario</th>\n",
              "      <th>sera_investigada</th>\n",
              "      <th>comando_investigador</th>\n",
              "      <th>status_investigacao</th>\n",
              "      <th>numero_relatorio</th>\n",
              "      <th>relatorio_publicado</th>\n",
              "      <th>dia_publicacao</th>\n",
              "      <th>quantidade_recomendacoes</th>\n",
              "      <th>aeronaves_envolvidas</th>\n",
              "      <th>saida_pista</th>\n",
              "      <th>dia_extracao</th>\n",
              "    </tr>\n",
              "  </thead>\n",
              "  <tbody>\n",
              "    <tr>\n",
              "      <th>0</th>\n",
              "      <td>47965</td>\n",
              "      <td>ACIDENTE</td>\n",
              "      <td>FALHA DO MOTOR EM VOO</td>\n",
              "      <td>ARIQUEMES</td>\n",
              "      <td>RO</td>\n",
              "      <td>BRASIL</td>\n",
              "      <td>SJOG</td>\n",
              "      <td>2013-05-05</td>\n",
              "      <td>11:00:00</td>\n",
              "      <td>***</td>\n",
              "      <td>SERIPA-7</td>\n",
              "      <td>NaN</td>\n",
              "      <td>NaN</td>\n",
              "      <td>NaN</td>\n",
              "      <td>NaN</td>\n",
              "      <td>0</td>\n",
              "      <td>1</td>\n",
              "      <td>NaN</td>\n",
              "      <td>2016-07-30</td>\n",
              "    </tr>\n",
              "    <tr>\n",
              "      <th>1</th>\n",
              "      <td>50313</td>\n",
              "      <td>INCIDENTE GRAVE</td>\n",
              "      <td>POUSO SEM TREM</td>\n",
              "      <td>CACOAL</td>\n",
              "      <td>RO</td>\n",
              "      <td>BRASIL</td>\n",
              "      <td>SSKW</td>\n",
              "      <td>2013-11-25</td>\n",
              "      <td>12:32:00</td>\n",
              "      <td>SIM</td>\n",
              "      <td>SERIPA-7</td>\n",
              "      <td>FINALIZADA</td>\n",
              "      <td>IG-209/CENIPA/2013</td>\n",
              "      <td>1.0</td>\n",
              "      <td>2014-04-07</td>\n",
              "      <td>0</td>\n",
              "      <td>1</td>\n",
              "      <td>NaN</td>\n",
              "      <td>2016-07-30</td>\n",
              "    </tr>\n",
              "    <tr>\n",
              "      <th>2</th>\n",
              "      <td>34078</td>\n",
              "      <td>ACIDENTE</td>\n",
              "      <td>PERDA DE CONTROLE NO SOLO</td>\n",
              "      <td>CEREJEIRAS</td>\n",
              "      <td>RO</td>\n",
              "      <td>BRASIL</td>\n",
              "      <td>****</td>\n",
              "      <td>2008-08-07</td>\n",
              "      <td>15:10:00</td>\n",
              "      <td>SIM</td>\n",
              "      <td>SERIPA-7</td>\n",
              "      <td>FINALIZADA</td>\n",
              "      <td>A - 517/CENIPA/2016</td>\n",
              "      <td>1.0</td>\n",
              "      <td>2016-07-07</td>\n",
              "      <td>0</td>\n",
              "      <td>1</td>\n",
              "      <td>1.0</td>\n",
              "      <td>2016-07-30</td>\n",
              "    </tr>\n",
              "  </tbody>\n",
              "</table>\n",
              "</div>\n",
              "      <button class=\"colab-df-convert\" onclick=\"convertToInteractive('df-a0ccbbd2-e20c-452f-af07-4d3318eb8c7f')\"\n",
              "              title=\"Convert this dataframe to an interactive table.\"\n",
              "              style=\"display:none;\">\n",
              "        \n",
              "  <svg xmlns=\"http://www.w3.org/2000/svg\" height=\"24px\"viewBox=\"0 0 24 24\"\n",
              "       width=\"24px\">\n",
              "    <path d=\"M0 0h24v24H0V0z\" fill=\"none\"/>\n",
              "    <path d=\"M18.56 5.44l.94 2.06.94-2.06 2.06-.94-2.06-.94-.94-2.06-.94 2.06-2.06.94zm-11 1L8.5 8.5l.94-2.06 2.06-.94-2.06-.94L8.5 2.5l-.94 2.06-2.06.94zm10 10l.94 2.06.94-2.06 2.06-.94-2.06-.94-.94-2.06-.94 2.06-2.06.94z\"/><path d=\"M17.41 7.96l-1.37-1.37c-.4-.4-.92-.59-1.43-.59-.52 0-1.04.2-1.43.59L10.3 9.45l-7.72 7.72c-.78.78-.78 2.05 0 2.83L4 21.41c.39.39.9.59 1.41.59.51 0 1.02-.2 1.41-.59l7.78-7.78 2.81-2.81c.8-.78.8-2.07 0-2.86zM5.41 20L4 18.59l7.72-7.72 1.47 1.35L5.41 20z\"/>\n",
              "  </svg>\n",
              "      </button>\n",
              "      \n",
              "  <style>\n",
              "    .colab-df-container {\n",
              "      display:flex;\n",
              "      flex-wrap:wrap;\n",
              "      gap: 12px;\n",
              "    }\n",
              "\n",
              "    .colab-df-convert {\n",
              "      background-color: #E8F0FE;\n",
              "      border: none;\n",
              "      border-radius: 50%;\n",
              "      cursor: pointer;\n",
              "      display: none;\n",
              "      fill: #1967D2;\n",
              "      height: 32px;\n",
              "      padding: 0 0 0 0;\n",
              "      width: 32px;\n",
              "    }\n",
              "\n",
              "    .colab-df-convert:hover {\n",
              "      background-color: #E2EBFA;\n",
              "      box-shadow: 0px 1px 2px rgba(60, 64, 67, 0.3), 0px 1px 3px 1px rgba(60, 64, 67, 0.15);\n",
              "      fill: #174EA6;\n",
              "    }\n",
              "\n",
              "    [theme=dark] .colab-df-convert {\n",
              "      background-color: #3B4455;\n",
              "      fill: #D2E3FC;\n",
              "    }\n",
              "\n",
              "    [theme=dark] .colab-df-convert:hover {\n",
              "      background-color: #434B5C;\n",
              "      box-shadow: 0px 1px 3px 1px rgba(0, 0, 0, 0.15);\n",
              "      filter: drop-shadow(0px 1px 2px rgba(0, 0, 0, 0.3));\n",
              "      fill: #FFFFFF;\n",
              "    }\n",
              "  </style>\n",
              "\n",
              "      <script>\n",
              "        const buttonEl =\n",
              "          document.querySelector('#df-a0ccbbd2-e20c-452f-af07-4d3318eb8c7f button.colab-df-convert');\n",
              "        buttonEl.style.display =\n",
              "          google.colab.kernel.accessAllowed ? 'block' : 'none';\n",
              "\n",
              "        async function convertToInteractive(key) {\n",
              "          const element = document.querySelector('#df-a0ccbbd2-e20c-452f-af07-4d3318eb8c7f');\n",
              "          const dataTable =\n",
              "            await google.colab.kernel.invokeFunction('convertToInteractive',\n",
              "                                                     [key], {});\n",
              "          if (!dataTable) return;\n",
              "\n",
              "          const docLinkHtml = 'Like what you see? Visit the ' +\n",
              "            '<a target=\"_blank\" href=https://colab.research.google.com/notebooks/data_table.ipynb>data table notebook</a>'\n",
              "            + ' to learn more about interactive tables.';\n",
              "          element.innerHTML = '';\n",
              "          dataTable['output_type'] = 'display_data';\n",
              "          await google.colab.output.renderOutput(dataTable, element);\n",
              "          const docLink = document.createElement('div');\n",
              "          docLink.innerHTML = docLinkHtml;\n",
              "          element.appendChild(docLink);\n",
              "        }\n",
              "      </script>\n",
              "    </div>\n",
              "  </div>\n",
              "  "
            ]
          },
          "metadata": {},
          "execution_count": 9
        }
      ],
      "source": [
        "ocorrencia.head(3)"
      ]
    },
    {
      "cell_type": "code",
      "source": [
        "base=ocorrencia.drop(['dia_extracao','codigo_ocorrencia','sera_investigada','comando_investigador','status_investigacao','numero_relatorio','relatorio_publicado','dia_publicacao','quantidade_recomendacoes'], axis=1)"
      ],
      "metadata": {
        "id": "bwx3bVJl5CvG"
      },
      "execution_count": 10,
      "outputs": []
    },
    {
      "cell_type": "code",
      "execution_count": 11,
      "metadata": {
        "colab": {
          "base_uri": "https://localhost:8080/"
        },
        "id": "lJHb-iHWiJ34",
        "outputId": "28b5c5eb-a608-4ca8-8c1b-eb04cb281ee5"
      },
      "outputs": [
        {
          "output_type": "stream",
          "name": "stdout",
          "text": [
            "<class 'pandas.core.frame.DataFrame'>\n",
            "RangeIndex: 2027 entries, 0 to 2026\n",
            "Data columns (total 10 columns):\n",
            " #   Column                Non-Null Count  Dtype  \n",
            "---  ------                --------------  -----  \n",
            " 0   classificacao         2027 non-null   object \n",
            " 1   tipo                  2027 non-null   object \n",
            " 2   localidade            2027 non-null   object \n",
            " 3   uf                    2027 non-null   object \n",
            " 4   pais                  2027 non-null   object \n",
            " 5   aerodromo             2024 non-null   object \n",
            " 6   dia_ocorrencia        2027 non-null   object \n",
            " 7   horario               2027 non-null   object \n",
            " 8   aeronaves_envolvidas  2027 non-null   int64  \n",
            " 9   saida_pista           256 non-null    float64\n",
            "dtypes: float64(1), int64(1), object(8)\n",
            "memory usage: 158.5+ KB\n"
          ]
        }
      ],
      "source": [
        "#Colunas do arquivo 'ocorrencia.csv'\n",
        "base.info()"
      ]
    },
    {
      "cell_type": "markdown",
      "metadata": {
        "id": "hRU3xVfciJ36"
      },
      "source": [
        "Vamos também remover as linhas em que o campo Código da Ocorrência está inválido. Este arquivo não possui nenhum registro inválido, mas para casos futuros, já vou deixar esse comando pronto."
      ]
    },
    {
      "cell_type": "code",
      "source": [
        "# Salvar base gerada\n",
        "base.to_csv('base.csv')"
      ],
      "metadata": {
        "id": "eX7JJqCc60mU"
      },
      "execution_count": 12,
      "outputs": []
    },
    {
      "cell_type": "code",
      "source": [
        "# Limpas NaN de todo o DataFrame\n",
        "base.dropna()\n",
        "\n",
        "# Fazer a ordem cromática dos indexes\n",
        "base.reset_index(drop=True)\n",
        "\n",
        "base=base.rename(columns={'# ACFTs': '#ACFT'})\n",
        "base"
      ],
      "metadata": {
        "colab": {
          "base_uri": "https://localhost:8080/",
          "height": 641
        },
        "id": "W6NNW6lc8gze",
        "outputId": "b0cb062e-b509-49f3-dc24-2bd25e037bff"
      },
      "execution_count": 13,
      "outputs": [
        {
          "output_type": "execute_result",
          "data": {
            "text/plain": [
              "        classificacao                                       tipo  \\\n",
              "0            ACIDENTE                      FALHA DO MOTOR EM VOO   \n",
              "1     INCIDENTE GRAVE                             POUSO SEM TREM   \n",
              "2            ACIDENTE                  PERDA DE CONTROLE NO SOLO   \n",
              "3            ACIDENTE                                POUSO LONGO   \n",
              "4            ACIDENTE                   PERDA DE CONTROLE EM VOO   \n",
              "...               ...                                        ...   \n",
              "2022  INCIDENTE GRAVE                 PERDA DE COMPONENTE EM VOO   \n",
              "2023  INCIDENTE GRAVE                               OUTROS TIPOS   \n",
              "2024         ACIDENTE              COLISÃO COM OBSTÁCULO NO SOLO   \n",
              "2025         ACIDENTE  CAUSADO POR FENÔMENO METEOROLÓGICO EM VOO   \n",
              "2026         ACIDENTE                               OUTROS TIPOS   \n",
              "\n",
              "                localidade   uf        pais aerodromo dia_ocorrencia  \\\n",
              "0                ARIQUEMES   RO      BRASIL      SJOG     2013-05-05   \n",
              "1                   CACOAL   RO      BRASIL      SSKW     2013-11-25   \n",
              "2               CEREJEIRAS   RO      BRASIL      ****     2008-08-07   \n",
              "3                  AMAJARI   RR      BRASIL      ****     2011-08-11   \n",
              "4                   ACEGUÁ   RS      BRASIL      ****     2009-12-28   \n",
              "...                    ...  ...         ...       ...            ...   \n",
              "2022              MEDELLIN   EX    COLÔMBIA      ****     2009-03-26   \n",
              "2023                  LIMA   EX        PERU      ****     2006-10-31   \n",
              "2024              MENDONZA   EX   ARGENTINA      ****     2006-01-03   \n",
              "2025  ÁGUAS INTERNACIONAIS  ***      BRASIL      ****     2013-09-01   \n",
              "2026             CAMBERLEY   EX  INGLATERRA      EGLK     2015-07-31   \n",
              "\n",
              "       horario  aeronaves_envolvidas  saida_pista  \n",
              "0     11:00:00                     1          NaN  \n",
              "1     12:32:00                     1          NaN  \n",
              "2     15:10:00                     1          1.0  \n",
              "3     17:00:00                     1          NaN  \n",
              "4     17:30:00                     1          NaN  \n",
              "...        ...                   ...          ...  \n",
              "2022  04:46:00                     1          NaN  \n",
              "2023  00:00:00                     1          NaN  \n",
              "2024  00:00:00                     1          NaN  \n",
              "2025  00:00:00                     1          NaN  \n",
              "2026  14:08:00                     1          1.0  \n",
              "\n",
              "[2027 rows x 10 columns]"
            ],
            "text/html": [
              "\n",
              "  <div id=\"df-3906da18-745a-4b48-8851-ecb6ee06b849\">\n",
              "    <div class=\"colab-df-container\">\n",
              "      <div>\n",
              "<style scoped>\n",
              "    .dataframe tbody tr th:only-of-type {\n",
              "        vertical-align: middle;\n",
              "    }\n",
              "\n",
              "    .dataframe tbody tr th {\n",
              "        vertical-align: top;\n",
              "    }\n",
              "\n",
              "    .dataframe thead th {\n",
              "        text-align: right;\n",
              "    }\n",
              "</style>\n",
              "<table border=\"1\" class=\"dataframe\">\n",
              "  <thead>\n",
              "    <tr style=\"text-align: right;\">\n",
              "      <th></th>\n",
              "      <th>classificacao</th>\n",
              "      <th>tipo</th>\n",
              "      <th>localidade</th>\n",
              "      <th>uf</th>\n",
              "      <th>pais</th>\n",
              "      <th>aerodromo</th>\n",
              "      <th>dia_ocorrencia</th>\n",
              "      <th>horario</th>\n",
              "      <th>aeronaves_envolvidas</th>\n",
              "      <th>saida_pista</th>\n",
              "    </tr>\n",
              "  </thead>\n",
              "  <tbody>\n",
              "    <tr>\n",
              "      <th>0</th>\n",
              "      <td>ACIDENTE</td>\n",
              "      <td>FALHA DO MOTOR EM VOO</td>\n",
              "      <td>ARIQUEMES</td>\n",
              "      <td>RO</td>\n",
              "      <td>BRASIL</td>\n",
              "      <td>SJOG</td>\n",
              "      <td>2013-05-05</td>\n",
              "      <td>11:00:00</td>\n",
              "      <td>1</td>\n",
              "      <td>NaN</td>\n",
              "    </tr>\n",
              "    <tr>\n",
              "      <th>1</th>\n",
              "      <td>INCIDENTE GRAVE</td>\n",
              "      <td>POUSO SEM TREM</td>\n",
              "      <td>CACOAL</td>\n",
              "      <td>RO</td>\n",
              "      <td>BRASIL</td>\n",
              "      <td>SSKW</td>\n",
              "      <td>2013-11-25</td>\n",
              "      <td>12:32:00</td>\n",
              "      <td>1</td>\n",
              "      <td>NaN</td>\n",
              "    </tr>\n",
              "    <tr>\n",
              "      <th>2</th>\n",
              "      <td>ACIDENTE</td>\n",
              "      <td>PERDA DE CONTROLE NO SOLO</td>\n",
              "      <td>CEREJEIRAS</td>\n",
              "      <td>RO</td>\n",
              "      <td>BRASIL</td>\n",
              "      <td>****</td>\n",
              "      <td>2008-08-07</td>\n",
              "      <td>15:10:00</td>\n",
              "      <td>1</td>\n",
              "      <td>1.0</td>\n",
              "    </tr>\n",
              "    <tr>\n",
              "      <th>3</th>\n",
              "      <td>ACIDENTE</td>\n",
              "      <td>POUSO LONGO</td>\n",
              "      <td>AMAJARI</td>\n",
              "      <td>RR</td>\n",
              "      <td>BRASIL</td>\n",
              "      <td>****</td>\n",
              "      <td>2011-08-11</td>\n",
              "      <td>17:00:00</td>\n",
              "      <td>1</td>\n",
              "      <td>NaN</td>\n",
              "    </tr>\n",
              "    <tr>\n",
              "      <th>4</th>\n",
              "      <td>ACIDENTE</td>\n",
              "      <td>PERDA DE CONTROLE EM VOO</td>\n",
              "      <td>ACEGUÁ</td>\n",
              "      <td>RS</td>\n",
              "      <td>BRASIL</td>\n",
              "      <td>****</td>\n",
              "      <td>2009-12-28</td>\n",
              "      <td>17:30:00</td>\n",
              "      <td>1</td>\n",
              "      <td>NaN</td>\n",
              "    </tr>\n",
              "    <tr>\n",
              "      <th>...</th>\n",
              "      <td>...</td>\n",
              "      <td>...</td>\n",
              "      <td>...</td>\n",
              "      <td>...</td>\n",
              "      <td>...</td>\n",
              "      <td>...</td>\n",
              "      <td>...</td>\n",
              "      <td>...</td>\n",
              "      <td>...</td>\n",
              "      <td>...</td>\n",
              "    </tr>\n",
              "    <tr>\n",
              "      <th>2022</th>\n",
              "      <td>INCIDENTE GRAVE</td>\n",
              "      <td>PERDA DE COMPONENTE EM VOO</td>\n",
              "      <td>MEDELLIN</td>\n",
              "      <td>EX</td>\n",
              "      <td>COLÔMBIA</td>\n",
              "      <td>****</td>\n",
              "      <td>2009-03-26</td>\n",
              "      <td>04:46:00</td>\n",
              "      <td>1</td>\n",
              "      <td>NaN</td>\n",
              "    </tr>\n",
              "    <tr>\n",
              "      <th>2023</th>\n",
              "      <td>INCIDENTE GRAVE</td>\n",
              "      <td>OUTROS TIPOS</td>\n",
              "      <td>LIMA</td>\n",
              "      <td>EX</td>\n",
              "      <td>PERU</td>\n",
              "      <td>****</td>\n",
              "      <td>2006-10-31</td>\n",
              "      <td>00:00:00</td>\n",
              "      <td>1</td>\n",
              "      <td>NaN</td>\n",
              "    </tr>\n",
              "    <tr>\n",
              "      <th>2024</th>\n",
              "      <td>ACIDENTE</td>\n",
              "      <td>COLISÃO COM OBSTÁCULO NO SOLO</td>\n",
              "      <td>MENDONZA</td>\n",
              "      <td>EX</td>\n",
              "      <td>ARGENTINA</td>\n",
              "      <td>****</td>\n",
              "      <td>2006-01-03</td>\n",
              "      <td>00:00:00</td>\n",
              "      <td>1</td>\n",
              "      <td>NaN</td>\n",
              "    </tr>\n",
              "    <tr>\n",
              "      <th>2025</th>\n",
              "      <td>ACIDENTE</td>\n",
              "      <td>CAUSADO POR FENÔMENO METEOROLÓGICO EM VOO</td>\n",
              "      <td>ÁGUAS INTERNACIONAIS</td>\n",
              "      <td>***</td>\n",
              "      <td>BRASIL</td>\n",
              "      <td>****</td>\n",
              "      <td>2013-09-01</td>\n",
              "      <td>00:00:00</td>\n",
              "      <td>1</td>\n",
              "      <td>NaN</td>\n",
              "    </tr>\n",
              "    <tr>\n",
              "      <th>2026</th>\n",
              "      <td>ACIDENTE</td>\n",
              "      <td>OUTROS TIPOS</td>\n",
              "      <td>CAMBERLEY</td>\n",
              "      <td>EX</td>\n",
              "      <td>INGLATERRA</td>\n",
              "      <td>EGLK</td>\n",
              "      <td>2015-07-31</td>\n",
              "      <td>14:08:00</td>\n",
              "      <td>1</td>\n",
              "      <td>1.0</td>\n",
              "    </tr>\n",
              "  </tbody>\n",
              "</table>\n",
              "<p>2027 rows × 10 columns</p>\n",
              "</div>\n",
              "      <button class=\"colab-df-convert\" onclick=\"convertToInteractive('df-3906da18-745a-4b48-8851-ecb6ee06b849')\"\n",
              "              title=\"Convert this dataframe to an interactive table.\"\n",
              "              style=\"display:none;\">\n",
              "        \n",
              "  <svg xmlns=\"http://www.w3.org/2000/svg\" height=\"24px\"viewBox=\"0 0 24 24\"\n",
              "       width=\"24px\">\n",
              "    <path d=\"M0 0h24v24H0V0z\" fill=\"none\"/>\n",
              "    <path d=\"M18.56 5.44l.94 2.06.94-2.06 2.06-.94-2.06-.94-.94-2.06-.94 2.06-2.06.94zm-11 1L8.5 8.5l.94-2.06 2.06-.94-2.06-.94L8.5 2.5l-.94 2.06-2.06.94zm10 10l.94 2.06.94-2.06 2.06-.94-2.06-.94-.94-2.06-.94 2.06-2.06.94z\"/><path d=\"M17.41 7.96l-1.37-1.37c-.4-.4-.92-.59-1.43-.59-.52 0-1.04.2-1.43.59L10.3 9.45l-7.72 7.72c-.78.78-.78 2.05 0 2.83L4 21.41c.39.39.9.59 1.41.59.51 0 1.02-.2 1.41-.59l7.78-7.78 2.81-2.81c.8-.78.8-2.07 0-2.86zM5.41 20L4 18.59l7.72-7.72 1.47 1.35L5.41 20z\"/>\n",
              "  </svg>\n",
              "      </button>\n",
              "      \n",
              "  <style>\n",
              "    .colab-df-container {\n",
              "      display:flex;\n",
              "      flex-wrap:wrap;\n",
              "      gap: 12px;\n",
              "    }\n",
              "\n",
              "    .colab-df-convert {\n",
              "      background-color: #E8F0FE;\n",
              "      border: none;\n",
              "      border-radius: 50%;\n",
              "      cursor: pointer;\n",
              "      display: none;\n",
              "      fill: #1967D2;\n",
              "      height: 32px;\n",
              "      padding: 0 0 0 0;\n",
              "      width: 32px;\n",
              "    }\n",
              "\n",
              "    .colab-df-convert:hover {\n",
              "      background-color: #E2EBFA;\n",
              "      box-shadow: 0px 1px 2px rgba(60, 64, 67, 0.3), 0px 1px 3px 1px rgba(60, 64, 67, 0.15);\n",
              "      fill: #174EA6;\n",
              "    }\n",
              "\n",
              "    [theme=dark] .colab-df-convert {\n",
              "      background-color: #3B4455;\n",
              "      fill: #D2E3FC;\n",
              "    }\n",
              "\n",
              "    [theme=dark] .colab-df-convert:hover {\n",
              "      background-color: #434B5C;\n",
              "      box-shadow: 0px 1px 3px 1px rgba(0, 0, 0, 0.15);\n",
              "      filter: drop-shadow(0px 1px 2px rgba(0, 0, 0, 0.3));\n",
              "      fill: #FFFFFF;\n",
              "    }\n",
              "  </style>\n",
              "\n",
              "      <script>\n",
              "        const buttonEl =\n",
              "          document.querySelector('#df-3906da18-745a-4b48-8851-ecb6ee06b849 button.colab-df-convert');\n",
              "        buttonEl.style.display =\n",
              "          google.colab.kernel.accessAllowed ? 'block' : 'none';\n",
              "\n",
              "        async function convertToInteractive(key) {\n",
              "          const element = document.querySelector('#df-3906da18-745a-4b48-8851-ecb6ee06b849');\n",
              "          const dataTable =\n",
              "            await google.colab.kernel.invokeFunction('convertToInteractive',\n",
              "                                                     [key], {});\n",
              "          if (!dataTable) return;\n",
              "\n",
              "          const docLinkHtml = 'Like what you see? Visit the ' +\n",
              "            '<a target=\"_blank\" href=https://colab.research.google.com/notebooks/data_table.ipynb>data table notebook</a>'\n",
              "            + ' to learn more about interactive tables.';\n",
              "          element.innerHTML = '';\n",
              "          dataTable['output_type'] = 'display_data';\n",
              "          await google.colab.output.renderOutput(dataTable, element);\n",
              "          const docLink = document.createElement('div');\n",
              "          docLink.innerHTML = docLinkHtml;\n",
              "          element.appendChild(docLink);\n",
              "        }\n",
              "      </script>\n",
              "    </div>\n",
              "  </div>\n",
              "  "
            ]
          },
          "metadata": {},
          "execution_count": 13
        }
      ]
    },
    {
      "cell_type": "markdown",
      "metadata": {
        "id": "85dbjzxliJ36"
      },
      "source": [
        "Vamos ver como ficou nosso novo DataFrame."
      ]
    },
    {
      "cell_type": "code",
      "execution_count": 14,
      "metadata": {
        "scrolled": true,
        "colab": {
          "base_uri": "https://localhost:8080/"
        },
        "id": "hUm6QA1AiJ37",
        "outputId": "741b99d1-97e4-4534-af15-4da929f66626"
      },
      "outputs": [
        {
          "output_type": "execute_result",
          "data": {
            "text/plain": [
              "classificacao           2027\n",
              "tipo                    2027\n",
              "localidade              2027\n",
              "uf                      2027\n",
              "pais                    2027\n",
              "aerodromo               2024\n",
              "dia_ocorrencia          2027\n",
              "horario                 2027\n",
              "aeronaves_envolvidas    2027\n",
              "saida_pista              256\n",
              "dtype: int64"
            ]
          },
          "metadata": {},
          "execution_count": 14
        }
      ],
      "source": [
        "base.count()"
      ]
    },
    {
      "cell_type": "code",
      "source": [
        "# Vamos transformar a coluna horario que está em hh:mm:ss em valores de hora decimal\n",
        "base.horario=pd.to_timedelta(base.horario).astype(int) / 1e9/3600"
      ],
      "metadata": {
        "colab": {
          "base_uri": "https://localhost:8080/"
        },
        "id": "fXofGtIYiotH",
        "outputId": "fe90d502-2ba1-47e2-946a-00c4ba26101e"
      },
      "execution_count": 15,
      "outputs": [
        {
          "output_type": "stream",
          "name": "stderr",
          "text": [
            "/usr/local/lib/python3.7/dist-packages/ipykernel_launcher.py:2: FutureWarning: casting timedelta64[ns] values to int64 with .astype(...) is deprecated and will raise in a future version. Use .view(...) instead.\n",
            "  \n"
          ]
        }
      ]
    },
    {
      "cell_type": "code",
      "source": [
        "base"
      ],
      "metadata": {
        "colab": {
          "base_uri": "https://localhost:8080/",
          "height": 641
        },
        "id": "G0cxqWK6iomR",
        "outputId": "751d15f5-368e-472d-8828-0d43e0b0e9c8"
      },
      "execution_count": 16,
      "outputs": [
        {
          "output_type": "execute_result",
          "data": {
            "text/plain": [
              "        classificacao                                       tipo  \\\n",
              "0            ACIDENTE                      FALHA DO MOTOR EM VOO   \n",
              "1     INCIDENTE GRAVE                             POUSO SEM TREM   \n",
              "2            ACIDENTE                  PERDA DE CONTROLE NO SOLO   \n",
              "3            ACIDENTE                                POUSO LONGO   \n",
              "4            ACIDENTE                   PERDA DE CONTROLE EM VOO   \n",
              "...               ...                                        ...   \n",
              "2022  INCIDENTE GRAVE                 PERDA DE COMPONENTE EM VOO   \n",
              "2023  INCIDENTE GRAVE                               OUTROS TIPOS   \n",
              "2024         ACIDENTE              COLISÃO COM OBSTÁCULO NO SOLO   \n",
              "2025         ACIDENTE  CAUSADO POR FENÔMENO METEOROLÓGICO EM VOO   \n",
              "2026         ACIDENTE                               OUTROS TIPOS   \n",
              "\n",
              "                localidade   uf        pais aerodromo dia_ocorrencia  \\\n",
              "0                ARIQUEMES   RO      BRASIL      SJOG     2013-05-05   \n",
              "1                   CACOAL   RO      BRASIL      SSKW     2013-11-25   \n",
              "2               CEREJEIRAS   RO      BRASIL      ****     2008-08-07   \n",
              "3                  AMAJARI   RR      BRASIL      ****     2011-08-11   \n",
              "4                   ACEGUÁ   RS      BRASIL      ****     2009-12-28   \n",
              "...                    ...  ...         ...       ...            ...   \n",
              "2022              MEDELLIN   EX    COLÔMBIA      ****     2009-03-26   \n",
              "2023                  LIMA   EX        PERU      ****     2006-10-31   \n",
              "2024              MENDONZA   EX   ARGENTINA      ****     2006-01-03   \n",
              "2025  ÁGUAS INTERNACIONAIS  ***      BRASIL      ****     2013-09-01   \n",
              "2026             CAMBERLEY   EX  INGLATERRA      EGLK     2015-07-31   \n",
              "\n",
              "        horario  aeronaves_envolvidas  saida_pista  \n",
              "0     11.000000                     1          NaN  \n",
              "1     12.533333                     1          NaN  \n",
              "2     15.166667                     1          1.0  \n",
              "3     17.000000                     1          NaN  \n",
              "4     17.500000                     1          NaN  \n",
              "...         ...                   ...          ...  \n",
              "2022   4.766667                     1          NaN  \n",
              "2023   0.000000                     1          NaN  \n",
              "2024   0.000000                     1          NaN  \n",
              "2025   0.000000                     1          NaN  \n",
              "2026  14.133333                     1          1.0  \n",
              "\n",
              "[2027 rows x 10 columns]"
            ],
            "text/html": [
              "\n",
              "  <div id=\"df-ea98749c-86ba-461c-a2fa-201680664810\">\n",
              "    <div class=\"colab-df-container\">\n",
              "      <div>\n",
              "<style scoped>\n",
              "    .dataframe tbody tr th:only-of-type {\n",
              "        vertical-align: middle;\n",
              "    }\n",
              "\n",
              "    .dataframe tbody tr th {\n",
              "        vertical-align: top;\n",
              "    }\n",
              "\n",
              "    .dataframe thead th {\n",
              "        text-align: right;\n",
              "    }\n",
              "</style>\n",
              "<table border=\"1\" class=\"dataframe\">\n",
              "  <thead>\n",
              "    <tr style=\"text-align: right;\">\n",
              "      <th></th>\n",
              "      <th>classificacao</th>\n",
              "      <th>tipo</th>\n",
              "      <th>localidade</th>\n",
              "      <th>uf</th>\n",
              "      <th>pais</th>\n",
              "      <th>aerodromo</th>\n",
              "      <th>dia_ocorrencia</th>\n",
              "      <th>horario</th>\n",
              "      <th>aeronaves_envolvidas</th>\n",
              "      <th>saida_pista</th>\n",
              "    </tr>\n",
              "  </thead>\n",
              "  <tbody>\n",
              "    <tr>\n",
              "      <th>0</th>\n",
              "      <td>ACIDENTE</td>\n",
              "      <td>FALHA DO MOTOR EM VOO</td>\n",
              "      <td>ARIQUEMES</td>\n",
              "      <td>RO</td>\n",
              "      <td>BRASIL</td>\n",
              "      <td>SJOG</td>\n",
              "      <td>2013-05-05</td>\n",
              "      <td>11.000000</td>\n",
              "      <td>1</td>\n",
              "      <td>NaN</td>\n",
              "    </tr>\n",
              "    <tr>\n",
              "      <th>1</th>\n",
              "      <td>INCIDENTE GRAVE</td>\n",
              "      <td>POUSO SEM TREM</td>\n",
              "      <td>CACOAL</td>\n",
              "      <td>RO</td>\n",
              "      <td>BRASIL</td>\n",
              "      <td>SSKW</td>\n",
              "      <td>2013-11-25</td>\n",
              "      <td>12.533333</td>\n",
              "      <td>1</td>\n",
              "      <td>NaN</td>\n",
              "    </tr>\n",
              "    <tr>\n",
              "      <th>2</th>\n",
              "      <td>ACIDENTE</td>\n",
              "      <td>PERDA DE CONTROLE NO SOLO</td>\n",
              "      <td>CEREJEIRAS</td>\n",
              "      <td>RO</td>\n",
              "      <td>BRASIL</td>\n",
              "      <td>****</td>\n",
              "      <td>2008-08-07</td>\n",
              "      <td>15.166667</td>\n",
              "      <td>1</td>\n",
              "      <td>1.0</td>\n",
              "    </tr>\n",
              "    <tr>\n",
              "      <th>3</th>\n",
              "      <td>ACIDENTE</td>\n",
              "      <td>POUSO LONGO</td>\n",
              "      <td>AMAJARI</td>\n",
              "      <td>RR</td>\n",
              "      <td>BRASIL</td>\n",
              "      <td>****</td>\n",
              "      <td>2011-08-11</td>\n",
              "      <td>17.000000</td>\n",
              "      <td>1</td>\n",
              "      <td>NaN</td>\n",
              "    </tr>\n",
              "    <tr>\n",
              "      <th>4</th>\n",
              "      <td>ACIDENTE</td>\n",
              "      <td>PERDA DE CONTROLE EM VOO</td>\n",
              "      <td>ACEGUÁ</td>\n",
              "      <td>RS</td>\n",
              "      <td>BRASIL</td>\n",
              "      <td>****</td>\n",
              "      <td>2009-12-28</td>\n",
              "      <td>17.500000</td>\n",
              "      <td>1</td>\n",
              "      <td>NaN</td>\n",
              "    </tr>\n",
              "    <tr>\n",
              "      <th>...</th>\n",
              "      <td>...</td>\n",
              "      <td>...</td>\n",
              "      <td>...</td>\n",
              "      <td>...</td>\n",
              "      <td>...</td>\n",
              "      <td>...</td>\n",
              "      <td>...</td>\n",
              "      <td>...</td>\n",
              "      <td>...</td>\n",
              "      <td>...</td>\n",
              "    </tr>\n",
              "    <tr>\n",
              "      <th>2022</th>\n",
              "      <td>INCIDENTE GRAVE</td>\n",
              "      <td>PERDA DE COMPONENTE EM VOO</td>\n",
              "      <td>MEDELLIN</td>\n",
              "      <td>EX</td>\n",
              "      <td>COLÔMBIA</td>\n",
              "      <td>****</td>\n",
              "      <td>2009-03-26</td>\n",
              "      <td>4.766667</td>\n",
              "      <td>1</td>\n",
              "      <td>NaN</td>\n",
              "    </tr>\n",
              "    <tr>\n",
              "      <th>2023</th>\n",
              "      <td>INCIDENTE GRAVE</td>\n",
              "      <td>OUTROS TIPOS</td>\n",
              "      <td>LIMA</td>\n",
              "      <td>EX</td>\n",
              "      <td>PERU</td>\n",
              "      <td>****</td>\n",
              "      <td>2006-10-31</td>\n",
              "      <td>0.000000</td>\n",
              "      <td>1</td>\n",
              "      <td>NaN</td>\n",
              "    </tr>\n",
              "    <tr>\n",
              "      <th>2024</th>\n",
              "      <td>ACIDENTE</td>\n",
              "      <td>COLISÃO COM OBSTÁCULO NO SOLO</td>\n",
              "      <td>MENDONZA</td>\n",
              "      <td>EX</td>\n",
              "      <td>ARGENTINA</td>\n",
              "      <td>****</td>\n",
              "      <td>2006-01-03</td>\n",
              "      <td>0.000000</td>\n",
              "      <td>1</td>\n",
              "      <td>NaN</td>\n",
              "    </tr>\n",
              "    <tr>\n",
              "      <th>2025</th>\n",
              "      <td>ACIDENTE</td>\n",
              "      <td>CAUSADO POR FENÔMENO METEOROLÓGICO EM VOO</td>\n",
              "      <td>ÁGUAS INTERNACIONAIS</td>\n",
              "      <td>***</td>\n",
              "      <td>BRASIL</td>\n",
              "      <td>****</td>\n",
              "      <td>2013-09-01</td>\n",
              "      <td>0.000000</td>\n",
              "      <td>1</td>\n",
              "      <td>NaN</td>\n",
              "    </tr>\n",
              "    <tr>\n",
              "      <th>2026</th>\n",
              "      <td>ACIDENTE</td>\n",
              "      <td>OUTROS TIPOS</td>\n",
              "      <td>CAMBERLEY</td>\n",
              "      <td>EX</td>\n",
              "      <td>INGLATERRA</td>\n",
              "      <td>EGLK</td>\n",
              "      <td>2015-07-31</td>\n",
              "      <td>14.133333</td>\n",
              "      <td>1</td>\n",
              "      <td>1.0</td>\n",
              "    </tr>\n",
              "  </tbody>\n",
              "</table>\n",
              "<p>2027 rows × 10 columns</p>\n",
              "</div>\n",
              "      <button class=\"colab-df-convert\" onclick=\"convertToInteractive('df-ea98749c-86ba-461c-a2fa-201680664810')\"\n",
              "              title=\"Convert this dataframe to an interactive table.\"\n",
              "              style=\"display:none;\">\n",
              "        \n",
              "  <svg xmlns=\"http://www.w3.org/2000/svg\" height=\"24px\"viewBox=\"0 0 24 24\"\n",
              "       width=\"24px\">\n",
              "    <path d=\"M0 0h24v24H0V0z\" fill=\"none\"/>\n",
              "    <path d=\"M18.56 5.44l.94 2.06.94-2.06 2.06-.94-2.06-.94-.94-2.06-.94 2.06-2.06.94zm-11 1L8.5 8.5l.94-2.06 2.06-.94-2.06-.94L8.5 2.5l-.94 2.06-2.06.94zm10 10l.94 2.06.94-2.06 2.06-.94-2.06-.94-.94-2.06-.94 2.06-2.06.94z\"/><path d=\"M17.41 7.96l-1.37-1.37c-.4-.4-.92-.59-1.43-.59-.52 0-1.04.2-1.43.59L10.3 9.45l-7.72 7.72c-.78.78-.78 2.05 0 2.83L4 21.41c.39.39.9.59 1.41.59.51 0 1.02-.2 1.41-.59l7.78-7.78 2.81-2.81c.8-.78.8-2.07 0-2.86zM5.41 20L4 18.59l7.72-7.72 1.47 1.35L5.41 20z\"/>\n",
              "  </svg>\n",
              "      </button>\n",
              "      \n",
              "  <style>\n",
              "    .colab-df-container {\n",
              "      display:flex;\n",
              "      flex-wrap:wrap;\n",
              "      gap: 12px;\n",
              "    }\n",
              "\n",
              "    .colab-df-convert {\n",
              "      background-color: #E8F0FE;\n",
              "      border: none;\n",
              "      border-radius: 50%;\n",
              "      cursor: pointer;\n",
              "      display: none;\n",
              "      fill: #1967D2;\n",
              "      height: 32px;\n",
              "      padding: 0 0 0 0;\n",
              "      width: 32px;\n",
              "    }\n",
              "\n",
              "    .colab-df-convert:hover {\n",
              "      background-color: #E2EBFA;\n",
              "      box-shadow: 0px 1px 2px rgba(60, 64, 67, 0.3), 0px 1px 3px 1px rgba(60, 64, 67, 0.15);\n",
              "      fill: #174EA6;\n",
              "    }\n",
              "\n",
              "    [theme=dark] .colab-df-convert {\n",
              "      background-color: #3B4455;\n",
              "      fill: #D2E3FC;\n",
              "    }\n",
              "\n",
              "    [theme=dark] .colab-df-convert:hover {\n",
              "      background-color: #434B5C;\n",
              "      box-shadow: 0px 1px 3px 1px rgba(0, 0, 0, 0.15);\n",
              "      filter: drop-shadow(0px 1px 2px rgba(0, 0, 0, 0.3));\n",
              "      fill: #FFFFFF;\n",
              "    }\n",
              "  </style>\n",
              "\n",
              "      <script>\n",
              "        const buttonEl =\n",
              "          document.querySelector('#df-ea98749c-86ba-461c-a2fa-201680664810 button.colab-df-convert');\n",
              "        buttonEl.style.display =\n",
              "          google.colab.kernel.accessAllowed ? 'block' : 'none';\n",
              "\n",
              "        async function convertToInteractive(key) {\n",
              "          const element = document.querySelector('#df-ea98749c-86ba-461c-a2fa-201680664810');\n",
              "          const dataTable =\n",
              "            await google.colab.kernel.invokeFunction('convertToInteractive',\n",
              "                                                     [key], {});\n",
              "          if (!dataTable) return;\n",
              "\n",
              "          const docLinkHtml = 'Like what you see? Visit the ' +\n",
              "            '<a target=\"_blank\" href=https://colab.research.google.com/notebooks/data_table.ipynb>data table notebook</a>'\n",
              "            + ' to learn more about interactive tables.';\n",
              "          element.innerHTML = '';\n",
              "          dataTable['output_type'] = 'display_data';\n",
              "          await google.colab.output.renderOutput(dataTable, element);\n",
              "          const docLink = document.createElement('div');\n",
              "          docLink.innerHTML = docLinkHtml;\n",
              "          element.appendChild(docLink);\n",
              "        }\n",
              "      </script>\n",
              "    </div>\n",
              "  </div>\n",
              "  "
            ]
          },
          "metadata": {},
          "execution_count": 16
        }
      ]
    },
    {
      "cell_type": "code",
      "source": [
        "# Vamos limpar os NaN\n",
        "base.dropna()\n",
        "\n",
        "# importante resetar o index\n",
        "base=base.reset_index(drop=True)"
      ],
      "metadata": {
        "id": "oIF2LDLtiojq"
      },
      "execution_count": 17,
      "outputs": []
    },
    {
      "cell_type": "code",
      "source": [
        ""
      ],
      "metadata": {
        "id": "_Ohns3H9OjnC"
      },
      "execution_count": 17,
      "outputs": []
    },
    {
      "cell_type": "code",
      "source": [
        "colunas=list(base)\n"
      ],
      "metadata": {
        "id": "swvD1LHcDOdh"
      },
      "execution_count": 18,
      "outputs": []
    },
    {
      "cell_type": "code",
      "source": [
        "import matplotlib.pyplot as plt\n",
        "\n",
        "for campo in colunas:\n",
        "  print('Coluna:',campo)\n",
        "  print('_______________________________')\n",
        "  print('|  Valores              FA    |' )\n",
        "  print('|-----------------------------|')\n",
        "  print(base[campo].value_counts()) \n",
        "  g= base[campo].value_counts().plot(kind='bar',figsize=(14,8))\n",
        "  plt.show(g)\n",
        "  print('                                   ')\n",
        "\n"
      ],
      "metadata": {
        "colab": {
          "base_uri": "https://localhost:8080/",
          "height": 1000
        },
        "id": "xD3TasCaBJIK",
        "outputId": "c7ddca99-41ec-4aca-b522-b16db9a3965b"
      },
      "execution_count": null,
      "outputs": [
        {
          "output_type": "stream",
          "name": "stdout",
          "text": [
            "Coluna: classificacao\n",
            "_______________________________\n",
            "|  Valores              FA    |\n",
            "|-----------------------------|\n",
            "ACIDENTE           1475\n",
            "INCIDENTE GRAVE     552\n",
            "Name: classificacao, dtype: int64\n"
          ]
        },
        {
          "output_type": "display_data",
          "data": {
            "text/plain": [
              "<Figure size 1008x576 with 1 Axes>"
            ],
            "image/png": "[encoded data removed]"
          },
          "metadata": {
            "needs_background": "light"
          }
        },
        {
          "output_type": "stream",
          "name": "stdout",
          "text": [
            "                                   \n",
            "Coluna: tipo\n",
            "_______________________________\n",
            "|  Valores              FA    |\n",
            "|-----------------------------|\n",
            "FALHA DO MOTOR EM VOO                             377\n",
            "PERDA DE CONTROLE NO SOLO                         325\n",
            "PERDA DE CONTROLE EM VOO                          310\n",
            "COLISÃO EM VOO COM OBSTÁCULO                      142\n",
            "COM TREM DE POUSO                                 130\n",
            "OUTROS TIPOS                                       87\n",
            "PANE SECA                                          74\n",
            "FALHA DE SISTEMA / COMPONENTE                      61\n",
            "INDETERMINADA                                      57\n",
            "POUSO SEM TREM                                     54\n",
            "POUSO EM LOCAL NÃO PREVISTO                        44\n",
            "POUSO BRUSCO                                       40\n",
            "COLISÃO COM OBSTÁCULO NO SOLO                      40\n",
            "POUSO LONGO                                        30\n",
            "CAUSADO POR FENÔMENO METEOROLÓGICO EM VOO          27\n",
            "PERDA DE COMPONENTE EM VOO                         27\n",
            "CFIT - COLISÃO EM VOO CONTROLADO COM O TERRENO     21\n",
            "MANOBRAS A BAIXA ALTURA                            16\n",
            "POUSO ANTES DA PISTA                               15\n",
            "ESTOURO DE PNEU                                    14\n",
            "COM HÉLICE                                         11\n",
            "DESORIENTAÇÃO ESPACIAL                             10\n",
            "TRÁFEGO AÉREO                                      10\n",
            "DESCOMPRESSÃO NÃO INTENCIONAL /  EXPLOSIVA          9\n",
            "FOGO EM VOO                                         8\n",
            "COLISÃO COM AERONAVE NO SOLO                        8\n",
            "COM COMANDOS DE VOO                                 8\n",
            "FALHA ESTRUTURAL                                    7\n",
            "FOGO NO SOLO                                        7\n",
            "PERDA DE COMPONENTE NO SOLO                         6\n",
            "VAZAMENTO DE OUTROS FLUÍDOS                         6\n",
            "COLISÃO DE AERONAVES EM VOO                         6\n",
            "COM PÁRA-BRISAS / JANELA / PORTA                    5\n",
            "COLISÃO COM PÁSSARO                                 5\n",
            "SAÍDA DE PISTA                                      5\n",
            "CORTE INVOLUNTÁRIO DO MOTOR                         3\n",
            "COM ROTOR                                           3\n",
            "FALHA DO MOTOR NO SOLO                              3\n",
            "CAUSADO POR FENÔMENO METEOROLÓGICO NO SOLO          3\n",
            "AERONAVE ATINGIDA POR OBJETO                        2\n",
            "COM PESSOAL EM VOO                                  2\n",
            "PROBLEMAS FISIOLÓGICOS                              2\n",
            "COM LANÇAMENTO DE CARGA                             1\n",
            "FUMAÇA NA CABINE                                    1\n",
            "COLISÃO EM VOO COM OBJETO REBOCADO                  1\n",
            "FOD - DANO CAUSADO POR OBJETO ESTRANHO              1\n",
            "COM LANÇAMENTO DE PESSOAS                           1\n",
            "COLISÃO DE VEÍCULO COM AERONAVE                     1\n",
            "INCURSÃO EM PISTA                                   1\n",
            "Name: tipo, dtype: int64\n"
          ]
        },
        {
          "output_type": "display_data",
          "data": {
            "text/plain": [
              "<Figure size 1008x576 with 1 Axes>"
            ],
            "image/png": "[encoded data removed]"
          },
          "metadata": {
            "needs_background": "light"
          }
        },
        {
          "output_type": "stream",
          "name": "stdout",
          "text": [
            "                                   \n",
            "Coluna: localidade\n",
            "_______________________________\n",
            "|  Valores              FA    |\n",
            "|-----------------------------|\n",
            "RIO DE JANEIRO    64\n",
            "SÃO PAULO         47\n",
            "GOIÂNIA           41\n",
            "BRASÍLIA          30\n",
            "MANAUS            29\n",
            "                  ..\n",
            "IMBITUBA           1\n",
            "BOCAIÚVA           1\n",
            "EDÉIA              1\n",
            "BOM DESPACHO       1\n",
            "CAMBERLEY          1\n",
            "Name: localidade, Length: 815, dtype: int64\n"
          ]
        },
        {
          "output_type": "display_data",
          "data": {
            "text/plain": [
              "<Figure size 1008x576 with 1 Axes>"
            ],
            "image/png": "[encoded data removed]"
          },
          "metadata": {
            "needs_background": "light"
          }
        },
        {
          "output_type": "stream",
          "name": "stdout",
          "text": [
            "                                   \n",
            "Coluna: uf\n",
            "_______________________________\n",
            "|  Valores              FA    |\n",
            "|-----------------------------|\n",
            "SP     434\n",
            "RS     169\n",
            "PR     154\n",
            "MT     153\n",
            "MG     152\n",
            "GO     141\n",
            "RJ     120\n",
            "PA     119\n",
            "BA      83\n",
            "AM      81\n",
            "MS      72\n",
            "SC      58\n",
            "MA      40\n",
            "DF      30\n",
            "TO      30\n",
            "PE      29\n",
            "RR      25\n",
            "CE      25\n",
            "PI      20\n",
            "ES      16\n",
            "RO      14\n",
            "AC      14\n",
            "AL      12\n",
            "EX       8\n",
            "SE       7\n",
            "RN       7\n",
            "AP       6\n",
            "PB       6\n",
            "***      2\n",
            "Name: uf, dtype: int64\n"
          ]
        },
        {
          "output_type": "display_data",
          "data": {
            "text/plain": [
              "<Figure size 1008x576 with 1 Axes>"
            ],
            "image/png": "[encoded data removed]"
          },
          "metadata": {
            "needs_background": "light"
          }
        },
        {
          "output_type": "stream",
          "name": "stdout",
          "text": [
            "                                   \n",
            "Coluna: pais\n",
            "_______________________________\n",
            "|  Valores              FA    |\n",
            "|-----------------------------|\n",
            "BRASIL        2019\n",
            "PARAGUAI         2\n",
            "URUGUAI          2\n",
            "COLÔMBIA         1\n",
            "PERU             1\n",
            "ARGENTINA        1\n",
            "INGLATERRA       1\n",
            "Name: pais, dtype: int64\n"
          ]
        },
        {
          "output_type": "display_data",
          "data": {
            "text/plain": [
              "<Figure size 1008x576 with 1 Axes>"
            ],
            "image/png": "[encoded data removed]"
          },
          "metadata": {
            "needs_background": "light"
          }
        },
        {
          "output_type": "stream",
          "name": "stdout",
          "text": [
            "                                   \n",
            "Coluna: aerodromo\n",
            "_______________________________\n",
            "|  Valores              FA    |\n",
            "|-----------------------------|\n",
            "****    1217\n",
            "SBMT      18\n",
            "SBBP      17\n",
            "SBJR      15\n",
            "SWNV      15\n",
            "        ... \n",
            "SNEB       1\n",
            "SSDP       1\n",
            "SSCT       1\n",
            "SDWS       1\n",
            "EGLK       1\n",
            "Name: aerodromo, Length: 306, dtype: int64\n"
          ]
        },
        {
          "output_type": "display_data",
          "data": {
            "text/plain": [
              "<Figure size 1008x576 with 1 Axes>"
            ],
            "image/png": "[encoded data removed]"
          },
          "metadata": {
            "needs_background": "light"
          }
        },
        {
          "output_type": "stream",
          "name": "stdout",
          "text": [
            "                                   \n",
            "Coluna: dia_ocorrencia\n",
            "_______________________________\n",
            "|  Valores              FA    |\n",
            "|-----------------------------|\n",
            "2012-09-24    6\n",
            "2013-02-16    5\n",
            "2010-09-15    4\n",
            "2015-04-05    4\n",
            "2013-04-22    4\n",
            "             ..\n",
            "2013-01-05    1\n",
            "2010-01-04    1\n",
            "2009-08-05    1\n",
            "2007-07-14    1\n",
            "2015-07-31    1\n",
            "Name: dia_ocorrencia, Length: 1510, dtype: int64\n"
          ]
        }
      ]
    },
    {
      "cell_type": "code",
      "source": [
        "!wget -nc https://raw.githubusercontent.com/brpy/colab-pdf/master/colab_pdf.py\n",
        "from colab_pdf import colab_pdf\n",
        "colab_pdf('name-of-the-notebook.ipynb')\n",
        "\n",
        "  \n",
        "\n"
      ],
      "metadata": {
        "id": "3DEF9K1PNOPS"
      },
      "execution_count": null,
      "outputs": []
    },
    {
      "cell_type": "code",
      "source": [
        "from google.colab import drive\n",
        "drive.mount('/content/drive')"
      ],
      "metadata": {
        "id": "v78WZzPp6kJv"
      },
      "execution_count": null,
      "outputs": []
    },
    {
      "cell_type": "code",
      "source": [
        ""
      ],
      "metadata": {
        "id": "cgB_KFK6BJK8"
      },
      "execution_count": null,
      "outputs": []
    },
    {
      "cell_type": "code",
      "source": [
        "base['horario'].plot(kind='hist')"
      ],
      "metadata": {
        "id": "AIlYkzvgBJQM"
      },
      "execution_count": null,
      "outputs": []
    },
    {
      "cell_type": "code",
      "source": [
        "base['horario'].plot(kind='density')"
      ],
      "metadata": {
        "id": "fTuRg4mLiog3"
      },
      "execution_count": null,
      "outputs": []
    },
    {
      "cell_type": "code",
      "source": [
        "base.plot(x=\"horario\", y=[\"sum \"Median\", \"P75th\"])\n",
        ">>> plt.show()"
      ],
      "metadata": {
        "id": "7RaizzvQioeG"
      },
      "execution_count": null,
      "outputs": []
    },
    {
      "cell_type": "code",
      "source": [
        ""
      ],
      "metadata": {
        "id": "k0RlNjoJioa-"
      },
      "execution_count": null,
      "outputs": []
    },
    {
      "cell_type": "code",
      "source": [
        ""
      ],
      "metadata": {
        "id": "xVKhJFwuioXw"
      },
      "execution_count": null,
      "outputs": []
    },
    {
      "cell_type": "code",
      "source": [
        ""
      ],
      "metadata": {
        "id": "fhn36bNmioR2"
      },
      "execution_count": null,
      "outputs": []
    },
    {
      "cell_type": "code",
      "source": [
        ""
      ],
      "metadata": {
        "id": "HJNOFXcsioIv"
      },
      "execution_count": null,
      "outputs": []
    },
    {
      "cell_type": "markdown",
      "metadata": {
        "id": "iw9kqnu3iJ37"
      },
      "source": [
        "<h1>Visualização dos Dados (Data Visualization)</h1>\n",
        "\n",
        "Certo, nosso DataFrame está mais limpo e apresentável. Agora, vamos realizar alguns <i>Insights</i> em torno dos dados contidos aqui.\n",
        "\n",
        "As primeiras perguntas que eu gostaria de responder são:<br><br>\n",
        "<b>Como é classificada uma ocorrência? Como se divide o total geral nestas categorias?</b>\n",
        "\n",
        "\n",
        "Para responder a isso, criei a variável ```tipo_ocorrencia```, que armazenará as informações deste dataset agrupadas por classificação. A coluna ```CONTAGEM``` será somada, retornando um gráfico com o total de ocorrências para cada classificação.\n",
        "<br>\n",
        "Ficou confuso? Vamos ver como funciona na prática!"
      ]
    },
    {
      "cell_type": "code",
      "execution_count": null,
      "metadata": {
        "collapsed": true,
        "id": "n6R8WbvXiJ37"
      },
      "outputs": [],
      "source": [
        "#Cores para serem usadas nos gráficos\n",
        "colors = [['#0D47A1','#1565C0','#1976D2','#1E88E5','#2196F3'],\n",
        "          ['#311B92','#512DA8','#673AB7','#9575CD','#B39DDB'],\n",
        "          ['#1B5E20','#388E3C','#4CAF50','#81C784','#66BB6A'],\n",
        "          ['#E65100','#EF6C00','#F57C00','#FB8C00','#FF9800'],\n",
        "          ['#3E2723','#4E342E','#5D4037','#6D4C41','#795548'],\n",
        "          ['#BF360C','#D84315','#E64A19','#F4511E','#FF5722'],\n",
        "          ['#880E4F','#AD1457','#C2185B','#D81B60','#E91E63']\n",
        "         ]"
      ]
    },
    {
      "cell_type": "code",
      "execution_count": null,
      "metadata": {
        "scrolled": false,
        "id": "7mYyHMdWiJ37"
      },
      "outputs": [],
      "source": [
        "classificacao = ocorrencia.groupby('CLASSIFICAÇÃO')['CONTAGEM'].sum().plot(kind='bar', figsize=(10,5), color=random.choice(colors), alpha=.7)\n",
        "\n",
        "for p in classificacao.patches:\n",
        "    b=p.get_bbox()\n",
        "    classificacao.annotate(\"{:.0f}\".format(b.y1 + b.y0), ((b.x0 + b.x1)/2 - 0.03, b.y1 + 15))\n",
        "\n",
        "plt.xticks(rotation=0)\n",
        "plt.xlabel('CLASSIFICAÇÃO DA OCORRÊNCIA')\n",
        "plt.ylabel('QUANTIDADE')\n",
        "plt.title('QUANTIDADE DE OCORRÊNCIAS POR CLASSIFICAÇÃO \\n Total: ' + str(ocorrencia['CONTAGEM'].sum()) + ' ocorrências')\n",
        "plt.show()"
      ]
    },
    {
      "cell_type": "markdown",
      "metadata": {
        "id": "iBuJZ9d_iJ38"
      },
      "source": [
        "Como podemos ver no gráfico, as ocorrências são divididas em duas principais classificações: Acidente e Incidente Grave. Vale lembrar que, embora este arquivo trate de ocorrências envolvendo aeronaves nos últimos 10 anos, não significa que todas as ocorrências foram graves ou que houveram fatalidades. Muitos dos casos são sim, de quedas de avião decorrente de alguma falha humana ou mecânica, mas você verá mais a frente que nem todos são assim.\n",
        "\n",
        "Após classificarmos nossas ocorrências, quero responder a mais uma pergunta: \n",
        "\n",
        "<b>Quais os tipos de ocorrências que existem e qual foi sua frequência nestes últimos anos?</b>"
      ]
    },
    {
      "cell_type": "code",
      "execution_count": null,
      "metadata": {
        "id": "7P6_06z-iJ38"
      },
      "outputs": [],
      "source": [
        "ax = ocorrencia.groupby('TIPO DE OCORRÊNCIA')['CONTAGEM'].sum().sort_values().plot(kind='barh', color=random.choice(colors), figsize=(10,10))\n",
        "\n",
        "for p in ax.patches:\n",
        "    b=p.get_bbox()\n",
        "    ax.annotate(\"{:.0f}\".format(b.x1 + b.x0), (p.get_x() + p.get_width() + 1, p.get_y() - 0.05))\n",
        "\n",
        "plt.title('QUANTIDADE DE OCORRÊNCIAS AGRUPADAS POR TIPO \\n Total: ' + str(ocorrencia['CONTAGEM'].sum()) + ' ocorrências')\n",
        "plt.ylabel('TIPO DE OCORRÊNCIA')\n",
        "plt.xlabel('QUANTIDADE DE OCORRÊNCIA')\n",
        "plt.show()"
      ]
    },
    {
      "cell_type": "markdown",
      "metadata": {
        "id": "dyRajzXKiJ38"
      },
      "source": [
        "O processo de geração deste gráfico foi semelhante ao anterior: agrupei todos os dados da coluna 'TIPO' e somei os valores da coluna 'CONTAGEM'. Então, realizei a plotagem desses dados para melhor visualização.\n",
        "\n",
        "De acordo com os dados desse <i>plot</i>, as maiores causas de ocorrências são devidas a falhas de motor durante o vôo, seguida por perda de controle em solo e perda de controle em vôo. Embora tais causas nos remetam a falha humana na operação, não podemos levar isto como uma regra. Uma perda de controle em vôo pode dever-se desde incompetência técnica até falha em dispositivos como o radar. Todavia, a escala destes três principais motivos é uma causa a se preocupar."
      ]
    },
    {
      "cell_type": "markdown",
      "metadata": {
        "id": "RMPxMRQBiJ38"
      },
      "source": [
        "Seguindo nosso estudo, vamos responder a próxima pergunta:<br><br>\n",
        "<b>Como tem sido a progressão desses últimos anos? Tiveram menos ocorrências ou mais?</b>"
      ]
    },
    {
      "cell_type": "code",
      "execution_count": null,
      "metadata": {
        "id": "3uD4rCeyiJ38"
      },
      "outputs": [],
      "source": [
        "plotagem_data = ocorrencia.copy()\n",
        "plotagem_data['DIA DA OCORRÊNCIA'] = plotagem_data['DIA DA OCORRÊNCIA'].apply(lambda x: x.replace(x,x[0:4]))\n",
        "plotagem_data.groupby('DIA DA OCORRÊNCIA')['CONTAGEM'].sum().plot(color='purple', figsize=(12,5), grid=True)\n",
        "\n",
        "plt.title('QUANTIDADE DE OCORRÊNCIA AO LONGO DOS ANOS \\n Total: ' + str(ocorrencia['CONTAGEM'].sum()) + ' ocorrências')\n",
        "plt.xlabel('ANO REFERÊNCIA')\n",
        "plt.ylabel('QUANTIDADE DE OCORRÊNCIAS')\n",
        "plt.show()"
      ]
    },
    {
      "cell_type": "markdown",
      "metadata": {
        "id": "rea8BlediJ39"
      },
      "source": [
        "A progressão de ocorrências aéres nos últimos 10 anos tem crescido assustadoramente. Enquanto em 2006 tivemos menos que 130 ocorrências, em 2012 esse número subiu para quase 300! Vale lembrar que, embora em 2007 tenham ocorridos menos casos envolvendo aviões, este foi o ano do maior desastre aéreo já ocorrido no Brasil: o acidente do avião da TAM, que matou 194 pessoas. Mas, vamos deixar essa parte mais a frente deste estudo. A boa notícia é que, de 2012 até agora o número de ocorrências tem diminuído."
      ]
    },
    {
      "cell_type": "markdown",
      "metadata": {
        "id": "YU6r5MjviJ39"
      },
      "source": [
        "E quanto aos estados? <b>Quais foram os que mais registraram ocorrências?</b>"
      ]
    },
    {
      "cell_type": "code",
      "execution_count": null,
      "metadata": {
        "id": "_ghyq4z8iJ39"
      },
      "outputs": [],
      "source": [
        "ax_estado =  ocorrencia.groupby('UF')['CONTAGEM'].sum().plot(kind='bar', color=random.choice(colors), figsize=(11,5))\n",
        "\n",
        "plt.xlabel('ESTADO')\n",
        "plt.ylabel('QUANTIDADE DE OCORRÊNCIAS')\n",
        "plt.title('QUANTIDADE DE OCORRÊNCIAS POR ESTADO\\nTotal: ' + str(ocorrencia['CONTAGEM'].sum()) + ' ocorrências')\n",
        "plt.xticks(rotation=0)\n",
        "plt.show()"
      ]
    },
    {
      "cell_type": "markdown",
      "metadata": {
        "id": "Xg533c6WiJ39"
      },
      "source": [
        "O Estado de São Paulo foi o que mais teve ocorrências de 2006 a 2015. O número preocupante é maior do que os encontrados em todos os estados da região sudeste juntos! É de conhecimento que São Paulo é o estado com mais aeroportos do Brasil o que nos permitiria cogitar que este é o motivo de tantas ocorrências, não obstante, outros estados com muitos aeroportos como: Goiás, Maranhão, Mato Grosso e Minas Gerais obtiveram um <i>score</i> consideravelmente menor que o estado de São Paulo.\n",
        "\n",
        "Você deve ter percebido duas informações diferentes nesse gráfico: os \"estados\" \\*\\*\\*\\ e EX. Este último, por exemplo, representa ocorrências registradas fora do território brasileiro, mas com aeronaves nacionais.\n",
        "\n",
        "Já os três asterísticos representam locais que não tiveram sua localização identificadas (vide tabela abaixo), como a ocorrência 49474, que ocorreu em águas internacionais."
      ]
    },
    {
      "cell_type": "code",
      "execution_count": null,
      "metadata": {
        "id": "vGoue1lAiJ3-"
      },
      "outputs": [],
      "source": [
        "#Duas ocorrências em que não tiveram locais determinados\n",
        "ocorrencia[ocorrencia['UF'] == '***']"
      ]
    },
    {
      "cell_type": "markdown",
      "metadata": {
        "id": "vv2wRLhtiJ3-"
      },
      "source": [
        "<h1>Analisando o dataset de aeronaves</h1>\n",
        "\n",
        "Agora iremos partir para o segundo conjunto de dados deste estudo: o dataset de aeronaves. Este arquivo possui informações acerca dos veículos que estavam envolvidos nas ocorrências registradas dos últimos anos. Primeiro, realizarei a fase de limpeza dos dados (semelhante ao feito anteriormente), depois, irei trazer alguns <i>Insights</i> a partir da visualização dos dados. Vamos começar?"
      ]
    },
    {
      "cell_type": "markdown",
      "metadata": {
        "id": "h4v1FyzqiJ3-"
      },
      "source": [
        "<h2>Limpeza dos Dados (Data Cleaning)</h2>\n",
        "\n",
        "O arquivo \"aeronave.csv\" possui 24 colunas com informações sobre os aviões. Muitos desses dados não são de grande valia para esse estudo, como matricula da aeronave, seu código, peso máximo na decolagem e categoria de registro. Inicialmente, irei removê-los do DataFrame para melhor visualização, depois, converterei colunas indevidas com seu respectivo tipo de arquivo, seguido por processos como renomeação de colunas e eliminação de dados nulos.\n",
        "\n",
        "Abaixo, apresento as primeiras linhas do arquivo."
      ]
    },
    {
      "cell_type": "code",
      "execution_count": null,
      "metadata": {
        "id": "uD297PBpiJ3-"
      },
      "outputs": [],
      "source": [
        "aeronave.head()"
      ]
    },
    {
      "cell_type": "markdown",
      "metadata": {
        "id": "OThxDD6qiJ3_"
      },
      "source": [
        "A seguir eu retiro as colunas que não me interessam para este projeto. Perceba no bloco abaixo como fica a tabela sem esses dados."
      ]
    },
    {
      "cell_type": "code",
      "execution_count": null,
      "metadata": {
        "id": "35jGJHK7iJ3_"
      },
      "outputs": [],
      "source": [
        "aeronave.drop(['codigo_aeronave','matricula','codigo_operador','peso_maximo_decolagem',\n",
        "               'categoria_registro', 'origem_voo', 'destino_voo', 'dia_extracao'], axis = 1, inplace = True)\n",
        "\n",
        "aeronave.head()"
      ]
    },
    {
      "cell_type": "markdown",
      "metadata": {
        "id": "AWwo1mMEiJ3_"
      },
      "source": [
        "Feita a exclusão, é hora de visualizar como o Python está tratando cada coluna."
      ]
    },
    {
      "cell_type": "code",
      "execution_count": null,
      "metadata": {
        "id": "S4JSF-cqiJ3_"
      },
      "outputs": [],
      "source": [
        "aeronave.dtypes"
      ]
    },
    {
      "cell_type": "markdown",
      "metadata": {
        "id": "YhgbtjIkiJ3_"
      },
      "source": [
        "Um primeiro ponto que me incomodou foi o fato dele estar tratando as colunas de quantidades de assentos, ano de fabricação, quantidade de motores e quantidade de fatalidades como valores flutuantes (float64), ou seja, com pontos decimais. Ora, não existe, por exemplo, aeronaves com dois motores e meio (2,5), tampouco morrem durante um acidente três pessoas e meia (3,5). Mais a frente, durante a fase de visualização dos dados, isso será um problema, portanto, vamos tratá-lo.\n",
        "\n",
        "Primeiro eu crio duas funções: ```convert_na``` e ```convert_dtype```. A primeira, irá procurar por valores nulos nas linhas das colunas especificadas no momento do chamado da função, e irá preenche-las com o numeral 0. Já a segunda função irá converter esse DataFrame atualizado para um tipo específico de formato (em nosso caso, numeros inteiros). Confira abaixo maiores detalhes de cada função."
      ]
    },
    {
      "cell_type": "code",
      "execution_count": null,
      "metadata": {
        "id": "_2TLdJLYiJ4A"
      },
      "outputs": [],
      "source": [
        "'''\n",
        "A função convert_na possui dois argumentos: um DataFrame e sua coluna. \n",
        "Tal Series terá todos os seus valores nulos (NaN) atualizados para o numeral 0.\n",
        "'''\n",
        "\n",
        "def convert_na(dataframe, column):\n",
        "    for i in column:\n",
        "        dataframe[i].fillna(0, inplace = True)\n",
        "\n",
        "convert_na(aeronave,['quantidade_fatalidades','quantidade_motores','ano_fabricacao','quantidade_assentos'])"
      ]
    },
    {
      "cell_type": "code",
      "execution_count": null,
      "metadata": {
        "id": "cB10Vcb0iJ4A"
      },
      "outputs": [],
      "source": [
        "'''\n",
        "A função convert_dtype possui três argumentos: um DataFrame, uma coluna (Series) e o dtype que o usuário deseja alterar.\n",
        "Para cada Series declarada na função, ela irá converter tal coluna para o dtype desejado\n",
        "'''\n",
        "\n",
        "def convert_dtype(dataframe, column, dtype):\n",
        "    for i in column:\n",
        "        dataframe[i] = dataframe[i].astype(dtype)\n",
        "\n",
        "convert_dtype(aeronave,['quantidade_motores','quantidade_assentos','ano_fabricacao','quantidade_fatalidades'],int)"
      ]
    },
    {
      "cell_type": "markdown",
      "metadata": {
        "id": "OTAXlAZSiJ4A"
      },
      "source": [
        "Declaradas as funções e realizada as devidas alterações nas colunas, vamos ver como o Python interpretará tais dados agora."
      ]
    },
    {
      "cell_type": "code",
      "execution_count": null,
      "metadata": {
        "id": "mbJf0steiJ4A"
      },
      "outputs": [],
      "source": [
        "#Dtypes de float alterados para int\n",
        "aeronave.dtypes"
      ]
    },
    {
      "cell_type": "markdown",
      "metadata": {
        "id": "j8ukYwpEiJ4A"
      },
      "source": [
        "Como desejei, as colunas foram alteradas com sucesso de decimais para números inteiros.\n",
        "\n",
        "O próximo passo é renomear todas as colunas restantes nesse DataFrame para podermos ter uma visualização melhor. Aproveito para converter todos os valores nulos para a sentença \"NÃO IDENTIFICADO\". Isso facilitará o entendimento. O último <i>statement</i> do código irá incluir uma nova coluna no DataFrame: CONTAGEM, a qual irei atribuir o valor único de 1 para poder realizar alguns cálculos com mais facilidade."
      ]
    },
    {
      "cell_type": "code",
      "execution_count": null,
      "metadata": {
        "collapsed": true,
        "id": "m9fkvKPjiJ4A"
      },
      "outputs": [],
      "source": [
        "aeronave.columns = ['CÓDIGO DA OCORRÊNCIA','EQUIPAMENTO','FABRICANTE','MODELO','TIPO DE MOTOR','QUANTIDADE DE MOTORES',\n",
        "                    'QUANTIDADE DE ASSENTOS','ANO DE FABRICAÇÃO','PAÍS DE REGISTRO','CATEGORIA DE AVIÃO','FASE DE OPERAÇÃO',\n",
        "                    'TIPO DE OPERAÇÃO','NÍVEL DE DANO','QUANTIDADE DE FATALIDADES']\n",
        "aeronave = aeronave.apply(lambda x: x.replace('***','NÃO IDENTIFICADO'))\n",
        "aeronave['CONTAGEM'] = 1"
      ]
    },
    {
      "cell_type": "markdown",
      "metadata": {
        "id": "WKzM5Cl4iJ4A"
      },
      "source": [
        "Vamos visualizar como ficou o novo DataFrame."
      ]
    },
    {
      "cell_type": "code",
      "execution_count": null,
      "metadata": {
        "id": "RN7-Qy9GiJ4B"
      },
      "outputs": [],
      "source": [
        "#DataFrame alterado\n",
        "aeronave.head()"
      ]
    },
    {
      "cell_type": "markdown",
      "metadata": {
        "id": "k8h7cV5yiJ4B"
      },
      "source": [
        "Um fato me chamou a atenção neste arquivo de aeronaves: seu tamanho é maior que o arquivo de ocorrências. Levando em consideração que para cada aeronave há uma ocorrência, o que explicaria esse detalhe?\n",
        "\n",
        "Para termos certeza de que os DataFrames ```ocorrencia.csv``` e ```aeronave.csv``` são diferentes, vamos conferir no código."
      ]
    },
    {
      "cell_type": "code",
      "execution_count": null,
      "metadata": {
        "id": "M9pYgFgaiJ4B"
      },
      "outputs": [],
      "source": [
        "#Verificando se os dataframes são iguais\n",
        "aeronave['CÓDIGO DA OCORRÊNCIA'].equals(ocorrencia['CÓDIGO DA OCORRÊNCIA'])"
      ]
    },
    {
      "cell_type": "markdown",
      "metadata": {
        "id": "eUBTt-meiJ4B"
      },
      "source": [
        "Sim, de fato são diferentes. A explicação para este fato é de que uma ocorrência que envolveu mais de uma aeronave terá o mesmo número de ocorrência para ambos. Vimos no gráfico acima que há casos onde aeronaves se chocaram em vôo. Para ambas foi aberta o mesmo número de ocorrências.\n",
        "\n",
        "Vamos através do código abaixo, descobrir quantas ocorrências nós temos sob o mesmo código."
      ]
    },
    {
      "cell_type": "code",
      "execution_count": null,
      "metadata": {
        "id": "DVcQxCaCiJ4B"
      },
      "outputs": [],
      "source": [
        "#Pegando linhas duplicadas no DataFrame\n",
        "ocorrencias_duplicadas = aeronave[aeronave['CÓDIGO DA OCORRÊNCIA'].duplicated()].reset_index(drop=True)\n",
        "ocorrencias_duplicadas.drop('CONTAGEM', axis = 1, inplace = True)\n",
        "print('Há ' + str(ocorrencias_duplicadas.shape[0]) + ' ocorrências duplicadas.')"
      ]
    },
    {
      "cell_type": "markdown",
      "metadata": {
        "id": "26JNk3rRiJ4B"
      },
      "source": [
        "Vamos visualizar algumas das ocorrências de mesmo número"
      ]
    },
    {
      "cell_type": "code",
      "execution_count": null,
      "metadata": {
        "id": "jpOy0CEqiJ4C"
      },
      "outputs": [],
      "source": [
        "ocorrencias_duplicadas.head(6)"
      ]
    },
    {
      "cell_type": "markdown",
      "metadata": {
        "id": "p1i4CXISiJ4C"
      },
      "source": [
        "<h1>Visualização dos Dados (Data Visualization)</h1>\n",
        "\n",
        "Agora que tratamos e limpamos nosso <i>dataset</i>, é hora de visualizarmos os dados. Em nosso conjunto, existe a informação sobre o tipo de motor que a aeronave utiliza, sendo assim, a primeira pergunta que desejo responder é: <br><br><b>Qual tipo de motor mais gerou ocorrências nos últimos 10 anos?</b>"
      ]
    },
    {
      "cell_type": "code",
      "execution_count": null,
      "metadata": {
        "id": "9KejiSG7iJ4C"
      },
      "outputs": [],
      "source": [
        "ax = aeronave.groupby('TIPO DE MOTOR')['CONTAGEM'].sum().sort_values().plot(kind='bar', color=random.choice(colors), figsize=(11,5))\n",
        "\n",
        "for p in ax.patches:\n",
        "    b=p.get_bbox()\n",
        "    ax.annotate(\"{:.0f}\".format(b.y1 + b.y0), ((b.x0 + b.x1)/2 - 0.1, b.y1 + 15))\n",
        "\n",
        "plt.title('QUANTIDADE DE OCORRÊNCIAS AGRUPADAS\\nPOR TIPO DE MOTOR DE AERONAVE\\nTotal: '+str(aeronave['CONTAGEM'].sum())+' ocorrências')\n",
        "plt.ylabel('QUANTIDADE DE OCORRÊNCIAS')\n",
        "plt.xticks(rotation=0)\n",
        "plt.show()"
      ]
    },
    {
      "cell_type": "markdown",
      "metadata": {
        "id": "GRD81hcRiJ4C"
      },
      "source": [
        "Os motores a pistão reinam com as maiores quantidades de ocorrências geradas. Esse motor é um dos mais antigos (e até usados) motores de aeronave no mundo, muito comum em aviões monomotores. Além do baixo custo, eles são semelhantes aos motores de carro, mas tratados com os padrões de qualidade e confiança da aeronáutica, funcionando muito bem em baixar altitudes.\n",
        "\n",
        "O segundo e terceiro lugar ficaram para os motores de Turboeixo e Turboélice. Assim como o motor de pistão, o Turboélice é caracterizado pela hélice que fica a frente do avião, utilizando a famosa Lei da Ação e Reação para movimentar a aeronave, contudo, sua diferença está em utilizar pequenos jatos para realizar tal funcionamento."
      ]
    },
    {
      "cell_type": "markdown",
      "metadata": {
        "id": "XDiVbQ-hiJ4C"
      },
      "source": [
        "Próxima pergunta:\n",
        "<br>\n",
        "<b>Será que ocorrências envolvendo aviões aparecem em menor frequência do que para helicópter e outras aeronaves?</b>\n",
        "<br>"
      ]
    },
    {
      "cell_type": "code",
      "execution_count": null,
      "metadata": {
        "id": "a5GmggiYiJ4C"
      },
      "outputs": [],
      "source": [
        "ax = aeronave.groupby('EQUIPAMENTO')['CONTAGEM'].sum().sort_values(ascending = False).plot(kind='bar', figsize=(11,5), color=random.choice(colors))\n",
        "\n",
        "for p in ax.patches:\n",
        "    b=p.get_bbox()\n",
        "    ax.annotate(\"{:.0f}\".format(b.y1 + b.y0), ((b.x0 + b.x1)/2 - 0.1, b.y1 + 15))\n",
        "    \n",
        "plt.title('QUANTIDADE DE OCORRÊNCIAS POR TIPO DE AERONAVE\\nTotal: ' + str(aeronave['CONTAGEM'].sum()) + ' ocorrências')\n",
        "plt.ylabel('QUANTIDADE DE OCORRÊNCIAS')\n",
        "plt.xticks(rotation=45)\n",
        "plt.show()"
      ]
    },
    {
      "cell_type": "markdown",
      "metadata": {
        "id": "L-TCySrOiJ4C"
      },
      "source": [
        "Definitivamente, ocorrências envolvendo aviões surgem com muito mais frequência do que para helicópteros. Na verdade, a quantidade total de ocorrências de aviões é maior do que a soma de todos os outros tipos de aeronave. Até mesmo dirigíveis aparecem neste <i>dataset</i>!\n",
        "\n",
        "Se temos tantas quantidades de ocorrências registradas nesses anos, <b>quais são as fabricantes que mais aparecem nos problemas relatados?</b>"
      ]
    },
    {
      "cell_type": "code",
      "execution_count": null,
      "metadata": {
        "id": "wNzmJD0WiJ4D"
      },
      "outputs": [],
      "source": [
        "ocorrencias_fabricante = aeronave.groupby('FABRICANTE')['CONTAGEM'].sum().sort_values(ascending = False)\n",
        "ocorrencias_fabricante.head(10).plot(kind='barh', figsize=(10,5), color=random.choice(colors), grid=True)\n",
        "\n",
        "plt.title('QUANTIDADE DE OCORRÊNCIAS POR FABRICANTE\\nTotal: ' + str(aeronave['CONTAGEM'].sum()) + ' ocorrências')\n",
        "plt.xlabel('QUANTIDADE DE OCORRÊNCIAS NOS ÚLTIMOS 10 ANOS')\n",
        "plt.show()"
      ]
    },
    {
      "cell_type": "markdown",
      "metadata": {
        "id": "ijeiMdH6iJ4D"
      },
      "source": [
        "A fabricante brasileira Neiva Industria ocupa 19,6% das causas de ocorrências envolvendo aeronaves, seguida pela Cessna Aircraft e Piper Aircraft. A Neiva Industria Aeronáutica tem estado há 50 anos no mercado produzindo, principalmente, aviões de motores a pistão voltados para agricultura. Já a Cessna Aircraft é uma empresa americana, sediada no Kansas, que possui um inventário mais abrangente de aeronaves, produzindo desde monomotores a aviões a jato.\n",
        "\n",
        "A quantidade de ocorrências para essas duas fabricantes mostra a diferença gritante em relação as outras. A Neiva Industria, por exemplo, possui uma diferença próxima de 150% em relação ao terceiro lugar: a Piper Aircraft. Tais indicadores seriam uma boa forma de reavaliar o processo de montagem, manutenção e qualidade de peças dessas fabricantes."
      ]
    },
    {
      "cell_type": "markdown",
      "metadata": {
        "id": "GH6SRoxMiJ4D"
      },
      "source": [
        "Um outro questionamento que podemos fazer é:<br><br>\n",
        "<b>Viagens comerciais regulares tendem a ter mais problemas do que voos fretados?</b>"
      ]
    },
    {
      "cell_type": "code",
      "execution_count": null,
      "metadata": {
        "id": "z5DVspBiiJ4D"
      },
      "outputs": [],
      "source": [
        "categoria_aviao = aeronave.groupby('CATEGORIA DE AVIÃO')['CONTAGEM'].sum().sort_values().plot(kind='barh', figsize=(11,7), color=random.choice(colors), alpha=.8, grid = True)\n",
        "\n",
        "plt.title('QUANTIDADE DE OCORRÊNCIAS DOS ÚLTIMOS 10 ANOS\\nAGRUPADAS POR CATEGORIA DE AVIÃO')\n",
        "plt.xlabel('QUANTIDADE DE OCORRÊNCIAS')\n",
        "plt.show()\n"
      ]
    },
    {
      "cell_type": "markdown",
      "metadata": {
        "id": "i-LJdvbxiJ4D"
      },
      "source": [
        "Muitas pessoas tem medo de voar. Isso é fato, contudo, esses dados mostrados no gráfico acima mostram que esse medo pode ser diminuído. A esmagadora maioria de ocorrências registradas são atribuídas a aeronaves particulares, que podem ser desde monomotores e ultraleves até aviões particulares. O transporte Regular - aquele que companhias aéreas oferecem para o público em geral -, possui menos de 100 ocorrências nos últimos anos. Tais dados explicam o porquê da Neiva Industria ser uma das fabricantes que mais possuem ocorrência, já que a grande fatia desta escala é atribuida aos principais tipos de avião que ela produz."
      ]
    },
    {
      "cell_type": "markdown",
      "metadata": {
        "id": "25psfQmBiJ4D"
      },
      "source": [
        "Vamos agora olhar para o momento em que as ocorrências surgiram. Com isso, quero saber se é mais propício ocorrer um problema durante o pouso, decolagem ou outro momento da viagem."
      ]
    },
    {
      "cell_type": "code",
      "execution_count": null,
      "metadata": {
        "id": "f81M-UYCiJ4D"
      },
      "outputs": [],
      "source": [
        "fase_de_operacao = aeronave.groupby('FASE DE OPERAÇÃO')['CONTAGEM'].sum().sort_values().plot(kind='barh', figsize=(11,7), color=random.choice(colors), grid = True)\n",
        "plt.title('QUANTIDADE DE OCORRÊNCIAS POR FASE DE OPERAÇÃO\\nTotal: ' + str(aeronave['CONTAGEM'].sum()) + ' ocorrências')\n",
        "plt.xlabel('QUANTIDADE DE OCORRÊNCIAS')\n",
        "plt.show()"
      ]
    },
    {
      "cell_type": "markdown",
      "metadata": {
        "id": "14pow4PSiJ4E"
      },
      "source": [
        "De fato, o momento do pouso é um dos mais importantes da viagem. Cerca de 400 ocorrências, das mais de 2000 registradas ocorreram nesta fase. Contudo, vale ressaltar que a decolagem está consideravelmente próxima ao pouso, fazendo dela uma operação delicada também. Já a fase de cruzeiro, que se encontra em terceira posição, é o momento da viagem em si, quando o avião está trafegando da origem ao destino."
      ]
    },
    {
      "cell_type": "markdown",
      "metadata": {
        "id": "b9WK9_qQiJ4E"
      },
      "source": [
        "Como já disse anteriormente, nem toda ocorrência gerada resulta em fatalidades e danos na aeronave. Uma ocorrência, como o nome já diz, se refere ao fato de que algum evento não previsto ocorreu.\n",
        "\n",
        "Não obstante, esta é uma pergunta interessante a se responder. Afinal, <b>quais são os tipos de danos que podem ocorrer a uma aeronave? Qual a frequência?</b>"
      ]
    },
    {
      "cell_type": "code",
      "execution_count": null,
      "metadata": {
        "id": "iO9VnkJziJ4E"
      },
      "outputs": [],
      "source": [
        "tipo_de_dano = aeronave.groupby('NÍVEL DE DANO')['CONTAGEM'].sum().sort_values().plot(kind='bar', figsize=(11,5), color=random.choice(colors), grid = True)\n",
        "\n",
        "plt.title('OCORRÊNCIAS DOS ÚLTIMOS 10 ANOS AGRUPADAS\\nPOR TIPO DE DANO')\n",
        "plt.ylabel('QUANTIDADE DE OCORRÊNCIAS')\n",
        "plt.xticks(rotation=0)\n",
        "plt.show()"
      ]
    },
    {
      "cell_type": "markdown",
      "metadata": {
        "id": "snym-eHBiJ4E"
      },
      "source": [
        "Danos substanciais são aqueles que danificaram significantemente a aeronave. Há casos em que a fuselagem foi danificada, uma asa, turbina, hélice, dentre outros. Este tipo é o que mais surgiu durante esses anos, seguido por danos em que a aeronave ficou totalmente destruída.\n",
        "\n",
        "Por fim, quero saber em quantas ocorrências houveram fatalidades. Para ter essa informação, agruparei os casos onde pessoas morreram por quantidade, a fim de saber não só quantas fatalidades houveram nesta última década, mas também a sua frequência."
      ]
    },
    {
      "cell_type": "code",
      "execution_count": null,
      "metadata": {
        "id": "96pPsITtiJ4E"
      },
      "outputs": [],
      "source": [
        "fatalidades_maior_que_zero = aeronave[aeronave['QUANTIDADE DE FATALIDADES'] > 0]\n",
        "fatalidades = fatalidades_maior_que_zero.groupby('QUANTIDADE DE FATALIDADES')['CONTAGEM'].sum().plot(kind='bar', figsize=(11,5), color=random.choice(colors))\n",
        "\n",
        "for p in fatalidades.patches:\n",
        "    b=p.get_bbox()\n",
        "    fatalidades.annotate(\"{:.0f}\".format(b.y1 + b.y0), ((b.x0 + b.x1)/2 - 0.1, b.y1 + 2))\n",
        "    \n",
        "plt.title('QUANTIDADE DE OCORRÊNCIAS DOS ÚLTIMOS 10 ANOS AGRUPADAS\\nPOR QUANTIDADE DE FATALIDADES')\n",
        "plt.ylabel('QUANTIDADE DE OCORRÊNCIA')\n",
        "plt.xticks(rotation=0)\n",
        "plt.show()"
      ]
    },
    {
      "cell_type": "markdown",
      "metadata": {
        "id": "bbkcNMNpiJ4E"
      },
      "source": [
        "Para esse gráfico, ignorei casos onde não houveram fatalidades, que felizmente, é a grande maioria. Os dados restantes geraram o gráfico acima, que mostra que a maior frequência de mortes é atribuída a apenas uma pessoa. Novamente, lembre-se que a maioria das ocorrências registradas são de aviões a pistão, aeronaves estas presentes na linha de produção da fabricante com mais ocorrências: a Neiva Industria. Aeronaves monomotores e ultraleves possuem uma quantidade de assentos bem limitada - cerca de um ou dois. Tais quantidades são justamente encontradas nas duas primeiras posições do gráfico.\n",
        "\n",
        "Mas, dois casos me chamaram a atenção. Ao final do gráfico, é possível visualizar que há um caso onde morreram 154 pessoas e outro onde 199 fatalidades ocorreram. Sinceramente, não me lembrava de nenhum caso nos últimos anos envolvendo uma quantidade tão grande de mortes, sendo assim, decidi investigar.\n",
        "\n",
        "Abaixo, você pode conferir as duas linhas onde essas ocorrências se encontram na tabela."
      ]
    },
    {
      "cell_type": "code",
      "execution_count": null,
      "metadata": {
        "id": "w2K75p3-iJ4E"
      },
      "outputs": [],
      "source": [
        "piores_acidentes = aeronave[aeronave['QUANTIDADE DE FATALIDADES'] > 100]\n",
        "piores_acidentes"
      ]
    },
    {
      "cell_type": "markdown",
      "metadata": {
        "id": "qaT1QK2UiJ4F"
      },
      "source": [
        "Após uma pesquisa, lembrei-me de qual caso foi este. Trata-se do desastre envolvendo um Airbus A-320 no ano de 2007 em São Paulo, quando este tentou, sem sucesso, pousar na pista principal do aeroporto de Congonhas. Sob chuva, a aeronave ultrapassou os limites do aeroporto, atravessou a avenida Washington Luiz - chegando a tocar em um táxi durante o trajeto - e acabou se chocando contra um prédio da TAM Express. Você pode conferir maiores informações sobre esse trágico acidente que matou 199 pessoas <a href='http://noticias.uol.com.br/ultnot/especial/acidentecongonhas/ultnot/2007/07/27/ult5258u401.jhtm'>clicando aqui</a>"
      ]
    },
    {
      "cell_type": "code",
      "execution_count": null,
      "metadata": {
        "id": "Gj1-UNdKiJ4F"
      },
      "outputs": [],
      "source": [
        "#Linha da ocorrência gerada devido ao acidente do Airbus A-320\n",
        "ocorrencia[ocorrencia['CÓDIGO DA OCORRÊNCIA'] == 29859]"
      ]
    },
    {
      "cell_type": "markdown",
      "metadata": {
        "id": "FzH0lCuIiJ4G"
      },
      "source": [
        "O segundo pior caso completou 10 anos em 29/09/2016, quando um boeing da Gol chocou-se contra jato Legacy que se dirigia para os Estados Unidos. Com a queda, a aeronave caiu em uma mata fechada no Mato Grosso do Sul, matando 154 pessoas a bordo, incluindo passageiros e tripulação. <a href='http://g1.globo.com/mato-grosso/noticia/2016/09/acidente-com-aviao-da-gol-que-matou-154-pessoas-completa-10-anos.html'>Confira maiores detalhes clicando aqui</a>."
      ]
    },
    {
      "cell_type": "code",
      "execution_count": null,
      "metadata": {
        "id": "Lew2mbu2iJ4G"
      },
      "outputs": [],
      "source": [
        "ocorrencia[ocorrencia['CÓDIGO DA OCORRÊNCIA'] == 30375]"
      ]
    },
    {
      "cell_type": "markdown",
      "metadata": {
        "collapsed": true,
        "id": "YQrBpZX9iJ4G"
      },
      "source": [
        "<h1>Conclusão</h1>\n",
        "\n",
        "Aviões e aeronaves não estão insentas de sofrerem acidentes e problemas. A história tem registros de casos onde centenas de pessoas morreram e milhares de ocorrências foram geradas. Não obstante, vale lembrar que, embora o impacto gerado por uma queda de avião seja grande, sua probabilidade de ocorrer ainda é pequena. \n",
        "\n",
        "Mas, vamos levar em consideração outros meios de transporte, como o carro e moto. Apenas no Brasil em 2013, <a href='www.un.org/apps/news/story.asp?NewsID=52300#.ViZ1yNKrSM-'>41 mil pessoas morreram devido a acidentes de trânsito</a>, fazendo do Brasil o <a href='https://nacoesunidas.org/oms-brasil-e-o-pais-com-maior-numero-de-mortes-de-transito-por-habitante-da-america-do-sul/'>país com maior número de mortes no trânsito da América do Sul</a>. Já no mundo, tais acidentes são responsáveis por mais de 1,25 milhão de fatalidades, tendo uma frequência maior em países como China, EUA e Índia. \n",
        "\n",
        "Sim, de fato aviões não são indestrutíveis ou absolutamente seguros, mas, mesmo em meio ao cenário atual, é uma das formas mais seguras de viajar."
      ]
    },
    {
      "cell_type": "markdown",
      "metadata": {
        "id": "4yGdnPLgiJ4G"
      },
      "source": [
        "Curtiu esse estudo? <a href='www.paulovasconcellos.com.br'>Aproveite para passar no meu blog</a> e ver estes e outras notícias e projetos de Data Science. <a href='https://twitter.com/paulo_zip'>Aproveite e me siga no Twitter</a> para que possamos trocar idéias. Será um prazer ter você lá. Até mais!"
      ]
    },
    {
      "cell_type": "markdown",
      "metadata": {
        "id": "HQXMDi4MiJ4G"
      },
      "source": [
        "<h2>Referências</h2>\n",
        "<br>\n",
        "https://nacoesunidas.org/oms-brasil-e-o-pais-com-maior-numero-de-mortes-de-transito-por-habitante-da-america-do-sul/<br>\n",
        "http://www.un.org/apps/news/story.asp?NewsID=52300#.ViZ1yNKrSM-<br>\n",
        "http://g1.globo.com/mato-grosso/noticia/2016/09/acidente-com-aviao-da-gol-que-matou-154-pessoas-completa-10-anos.html<br>\n",
        "http://noticias.uol.com.br/ultnot/especial/acidentecongonhas/ultnot/2007/07/27/ult5258u401.jhtm<br>\n",
        "http://globoesporte.globo.com/sc/futebol/times/chapecoense/acidente/"
      ]
    }
  ],
  "metadata": {
    "anaconda-cloud": {},
    "kernelspec": {
      "display_name": "Python [default]",
      "language": "python",
      "name": "python3"
    },
    "language_info": {
      "codemirror_mode": {
        "name": "ipython",
        "version": 3
      },
      "file_extension": ".py",
      "mimetype": "text/x-python",
      "name": "python",
      "nbconvert_exporter": "python",
      "pygments_lexer": "ipython3",
      "version": "3.5.2"
    },
    "colab": {
      "name": "FINAL 4 acidentes_aereos.ipynb",
      "provenance": [],
      "collapsed_sections": [],
      "include_colab_link": true
    }
  },
  "nbformat": 4,
  "nbformat_minor": 0
}