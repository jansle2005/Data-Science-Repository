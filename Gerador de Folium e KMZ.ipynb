{
  "cells": [
    {
      "cell_type": "markdown",
      "metadata": {
        "id": "view-in-github",
        "colab_type": "text"
      },
      "source": [
        "<a href=\"https://colab.research.google.com/github/jansle2005/Data-Science-Repository/blob/master/Gerador%20de%20Folium%20e%20KMZ.ipynb\" target=\"_parent\"><img src=\"https://colab.research.google.com/assets/colab-badge.svg\" alt=\"Open In Colab\"/></a>"
      ]
    },
    {
      "cell_type": "markdown",
      "source": [
        "# Importar a Biblioteca Pandas e Lê o DATAFRAME"
      ],
      "metadata": {
        "id": "KBqOXszp1LMk"
      }
    },
    {
      "cell_type": "code",
      "source": [
        "import folium\n",
        "import pandas as pd"
      ],
      "metadata": {
        "id": "DED1Z8NuFsTk"
      },
      "execution_count": 85,
      "outputs": []
    },
    {
      "cell_type": "code",
      "source": [
        "df=pd.read_excel(\"coqueiral.xlsx\")"
      ],
      "metadata": {
        "id": "RIXNtLpWGJ2n"
      },
      "execution_count": 114,
      "outputs": []
    },
    {
      "cell_type": "code",
      "source": [
        "df"
      ],
      "metadata": {
        "id": "AbqrUYvgJdRT"
      },
      "execution_count": null,
      "outputs": []
    },
    {
      "cell_type": "markdown",
      "source": [
        "# Opção 1: Cria uma Mapa FOLIUM"
      ],
      "metadata": {
        "id": "WuITBLFO1CLs"
      }
    },
    {
      "cell_type": "code",
      "source": [
        "# Cria um mapa com a latitude e longitude médias do dataframe df\n",
        "map = folium.Map(location=[df[\"lati\"].mean(), df[\"long\"].mean()], zoom_start=12)"
      ],
      "metadata": {
        "id": "XsgiJJNeFsWL"
      },
      "execution_count": 100,
      "outputs": []
    },
    {
      "cell_type": "code",
      "source": [
        "# Adiciona marcadores para cada ponto de dados no dataframe df\n",
        "for index, row in df.iterrows():\n",
        "    folium.Marker(location=[row[\"lati\"], row[\"long\"]], popup=row[[\"Nome\", \"Endereco\", \"Tipo\", \"Mbps\",\"lati\",\"long\", \"Equipamento\"]].to_frame().to_html()).add_to(map)"
      ],
      "metadata": {
        "id": "jYE_4hINFsYk"
      },
      "execution_count": 101,
      "outputs": []
    },
    {
      "cell_type": "code",
      "source": [
        "# Salva o mapa como um arquivo html\n",
        "map.save(\"coqueiral_4.html\")"
      ],
      "metadata": {
        "id": "_Q_BicQDFsbb"
      },
      "execution_count": 102,
      "outputs": []
    },
    {
      "cell_type": "markdown",
      "source": [
        "#Opção 2:Cria um Arquivo KMZ"
      ],
      "metadata": {
        "id": "sSAKa-R41GuM"
      }
    },
    {
      "cell_type": "code",
      "source": [
        "import simplekml\n",
        "\n",
        "# cria o arquivo kmz\n",
        "kml = simplekml.Kml()\n",
        "\n",
        "# adiciona as informações dos pontos do dataframe ao kmz\n",
        "for index, row in df.iterrows():\n",
        "    pnt = kml.newpoint(name=row['Nome'], coords=[(row['long'], row['lati'])])\n",
        "    pnt.style.iconstyle.icon.href = 'http://maps.google.com/mapfiles/kml/shapes/placemark_circle.png'\n",
        "    pnt.style.labelstyle.scale = 0\n",
        "    pnt.description = \"TIPO:\"+row['Tipo']+    \"\\n\"+     \"END.:\"+row[\"Endereco\"]+\"\\n\"+    \"S \"   +str(row[\"lati\"])+   \"\\n\"+    \"W \"   +str(row[\"long\"])+  \"\\n\"+    row[\"Mbps\"]+\"\\n\"+    \"Eqp.:\"+row[\"Equipamento\"]\t\t\n",
        "\n"
      ],
      "metadata": {
        "id": "EgoMGrrHFsld"
      },
      "execution_count": 118,
      "outputs": []
    },
    {
      "cell_type": "code",
      "source": [
        "# salva o arquivo kmz\n",
        "kml.save(\"coqueiral_juraci.kmz\")"
      ],
      "metadata": {
        "id": "Pw44WMOEzV8G"
      },
      "execution_count": 119,
      "outputs": []
    }
  ],
  "metadata": {
    "colab": {
      "name": "Olá, este é o Colaboratory",
      "provenance": [],
      "include_colab_link": true
    },
    "kernelspec": {
      "display_name": "Python 3",
      "name": "python3"
    }
  },
  "nbformat": 4,
  "nbformat_minor": 0
}